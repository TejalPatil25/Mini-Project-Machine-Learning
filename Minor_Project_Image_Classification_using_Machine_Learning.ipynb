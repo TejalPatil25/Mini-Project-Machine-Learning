{
  "nbformat": 4,
  "nbformat_minor": 0,
  "metadata": {
    "colab": {
      "name": "Minor Project Image Classification using Machine Learning.ipynb",
      "provenance": [],
      "collapsed_sections": [],
      "authorship_tag": "ABX9TyNZgNyXZdjdyJQa6Hr2rKIx",
      "include_colab_link": true
    },
    "kernelspec": {
      "name": "python3",
      "display_name": "Python 3"
    },
    "language_info": {
      "name": "python"
    }
  },
  "cells": [
    {
      "cell_type": "markdown",
      "metadata": {
        "id": "view-in-github",
        "colab_type": "text"
      },
      "source": [
        "<a href=\"https://colab.research.google.com/github/TejalPatil25/Mini-Project-Machine-Learning/blob/main/Minor_Project_Image_Classification_using_Machine_Learning.ipynb\" target=\"_parent\"><img src=\"https://colab.research.google.com/assets/colab-badge.svg\" alt=\"Open In Colab\"/></a>"
      ]
    },
    {
      "cell_type": "code",
      "metadata": {
        "colab": {
          "base_uri": "https://localhost:8080/"
        },
        "id": "3WTg3ZsbUYIi",
        "outputId": "4d8c56ad-559b-4743-e058-fcccae94db4b"
      },
      "source": [
        "# This shows the time taken for compilation and execution of each cell in the program\n",
        "\n",
        "!pip install ipython-autotime\n",
        "%load_ext autotime"
      ],
      "execution_count": 1,
      "outputs": [
        {
          "output_type": "stream",
          "text": [
            "Collecting ipython-autotime\n",
            "  Downloading https://files.pythonhosted.org/packages/b4/c9/b413a24f759641bc27ef98c144b590023c8038dfb8a3f09e713e9dff12c1/ipython_autotime-0.3.1-py2.py3-none-any.whl\n",
            "Requirement already satisfied: ipython in /usr/local/lib/python3.7/dist-packages (from ipython-autotime) (5.5.0)\n",
            "Requirement already satisfied: decorator in /usr/local/lib/python3.7/dist-packages (from ipython->ipython-autotime) (4.4.2)\n",
            "Requirement already satisfied: setuptools>=18.5 in /usr/local/lib/python3.7/dist-packages (from ipython->ipython-autotime) (54.1.2)\n",
            "Requirement already satisfied: pexpect; sys_platform != \"win32\" in /usr/local/lib/python3.7/dist-packages (from ipython->ipython-autotime) (4.8.0)\n",
            "Requirement already satisfied: simplegeneric>0.8 in /usr/local/lib/python3.7/dist-packages (from ipython->ipython-autotime) (0.8.1)\n",
            "Requirement already satisfied: pickleshare in /usr/local/lib/python3.7/dist-packages (from ipython->ipython-autotime) (0.7.5)\n",
            "Requirement already satisfied: pygments in /usr/local/lib/python3.7/dist-packages (from ipython->ipython-autotime) (2.6.1)\n",
            "Requirement already satisfied: prompt-toolkit<2.0.0,>=1.0.4 in /usr/local/lib/python3.7/dist-packages (from ipython->ipython-autotime) (1.0.18)\n",
            "Requirement already satisfied: traitlets>=4.2 in /usr/local/lib/python3.7/dist-packages (from ipython->ipython-autotime) (5.0.5)\n",
            "Requirement already satisfied: ptyprocess>=0.5 in /usr/local/lib/python3.7/dist-packages (from pexpect; sys_platform != \"win32\"->ipython->ipython-autotime) (0.7.0)\n",
            "Requirement already satisfied: six>=1.9.0 in /usr/local/lib/python3.7/dist-packages (from prompt-toolkit<2.0.0,>=1.0.4->ipython->ipython-autotime) (1.15.0)\n",
            "Requirement already satisfied: wcwidth in /usr/local/lib/python3.7/dist-packages (from prompt-toolkit<2.0.0,>=1.0.4->ipython->ipython-autotime) (0.2.5)\n",
            "Requirement already satisfied: ipython-genutils in /usr/local/lib/python3.7/dist-packages (from traitlets>=4.2->ipython->ipython-autotime) (0.2.0)\n",
            "Installing collected packages: ipython-autotime\n",
            "Successfully installed ipython-autotime-0.3.1\n",
            "time: 3.28 ms (started: 2021-03-30 06:47:29 +00:00)\n"
          ],
          "name": "stdout"
        }
      ]
    },
    {
      "cell_type": "code",
      "metadata": {
        "colab": {
          "base_uri": "https://localhost:8080/"
        },
        "id": "-mAhHA6yagto",
        "outputId": "40fd8c4c-195b-4bc0-9a64-d62deeedf802"
      },
      "source": [
        "# Step 1 : Gathering the data\n",
        "\n",
        "# Downloading Bing Image Downloader for extracting the data tht at is the images\n",
        "\n",
        "!pip install bing-image-downloader"
      ],
      "execution_count": 2,
      "outputs": [
        {
          "output_type": "stream",
          "text": [
            "Collecting bing-image-downloader\n",
            "  Downloading https://files.pythonhosted.org/packages/0d/bf/537a61030b84ae4cd5022d5c7b014fd9bc3ce7c02358919153a6658a61d3/bing_image_downloader-1.0.4-py3-none-any.whl\n",
            "Installing collected packages: bing-image-downloader\n",
            "Successfully installed bing-image-downloader-1.0.4\n",
            "time: 3.14 s (started: 2021-03-30 06:47:31 +00:00)\n"
          ],
          "name": "stdout"
        }
      ]
    },
    {
      "cell_type": "code",
      "metadata": {
        "colab": {
          "base_uri": "https://localhost:8080/"
        },
        "id": "SMD4mPAJak6n",
        "outputId": "389b9309-b26d-45f9-d6c8-2398a806442c"
      },
      "source": [
        "# Creating a folder named images to store the downloaded images\n",
        "\n",
        "!mkdir images"
      ],
      "execution_count": 3,
      "outputs": [
        {
          "output_type": "stream",
          "text": [
            "time: 122 ms (started: 2021-03-30 06:47:37 +00:00)\n"
          ],
          "name": "stdout"
        }
      ]
    },
    {
      "cell_type": "code",
      "metadata": {
        "colab": {
          "base_uri": "https://localhost:8080/"
        },
        "id": "UzZq59HQaoRa",
        "outputId": "80624cef-35bf-4666-bb5e-301bb9d6b725"
      },
      "source": [
        "# Downloading Images for Starbucks Logo\n",
        "\n",
        "from bing_image_downloader import downloader\n",
        "downloader.download(\"Starbucks Logo\",limit=30,output_dir='images',\n",
        "                    adult_filter_off=True)"
      ],
      "execution_count": 4,
      "outputs": [
        {
          "output_type": "stream",
          "text": [
            "\n",
            "\n",
            "[!!]Indexing page: 1\n",
            "\n",
            "[%] Indexed 13 Images on Page 1.\n",
            "\n",
            "===============================================\n",
            "\n",
            "[%] Downloading Image #1 from https://stories.starbucks.com/uploads/2019/01/MSR_Logo_-_Starbucks_Rewards-1.jpg\n",
            "[%] File Downloaded !\n",
            "\n",
            "[%] Downloading Image #2 from https://editorial.designtaxi.com/editorial-images/news-colorswap26082015/3.gif\n",
            "[%] File Downloaded !\n",
            "\n",
            "[%] Downloading Image #3 from https://www.bing.com/th/id/OGC.e1c0d0835778bb4c8873a44e8168a7b3?pid=1.7&amp;rurl=https%3a%2f%2feditorial.designtaxi.com%2feditorial-images%2fnews-colorswap26082015%2f3.gif&amp;ehk=y0nJsm9%2fUiVMGdJQUYTWHLoW6NTnz5j6l2CpMdyGnoE%3d\n",
            "[!] Issue getting: https://www.bing.com/th/id/OGC.e1c0d0835778bb4c8873a44e8168a7b3?pid=1.7&amp;rurl=https%3a%2f%2feditorial.designtaxi.com%2feditorial-images%2fnews-colorswap26082015%2f3.gif&amp;ehk=y0nJsm9%2fUiVMGdJQUYTWHLoW6NTnz5j6l2CpMdyGnoE%3d\n",
            "[!] Error:: HTTP Error 404: Not Found\n",
            "[%] Downloading Image #3 from https://compote.slate.com/images/f06d0784-fef7-421c-95aa-4561543eff35.jpg\n",
            "[%] File Downloaded !\n",
            "\n",
            "[%] Downloading Image #4 from https://3.bp.blogspot.com/-EXyJJYpEG7M/WXC9_20NUiI/AAAAAAAAPWw/FN5Z_2euiscuNu6x76xlr2ZEKQGFuX91gCLcBGAs/s640/starbucks-anime-girl-04.jpg\n",
            "[%] File Downloaded !\n",
            "\n",
            "[%] Downloading Image #5 from https://divnil.com/wallpaper/iphone5/img/app/s/t/starbucks_wallpaper_logo_for_iphone_5_and_6_black_background_352145272f81e7151e9ba42fdfa1dedc_raw.jpg\n",
            "[%] File Downloaded !\n",
            "\n",
            "[%] Downloading Image #6 from http://blog.modes4u.com/images/Christmas-crafts-Christmas-Paper-Bag-Makeover/Christmas-crafts-Christmas-Paper-Bag-Makeover-6.jpg\n",
            "[%] File Downloaded !\n",
            "\n",
            "[%] Downloading Image #7 from https://digitalsynopsis.com/wp-content/uploads/2014/08/honest-advertising-slogans-25.jpg\n",
            "[%] File Downloaded !\n",
            "\n",
            "[%] Downloading Image #8 from http://2.bp.blogspot.com/-6PXB8GiL_HM/Tt9sJIBOzWI/AAAAAAAAAHM/uVkI30y3B7M/s1600/costa.jpg\n",
            "[%] File Downloaded !\n",
            "\n",
            "[%] Downloading Image #9 from https://editorial.designtaxi.com/news-gatsbyclothes1604/9.jpeg\n",
            "[%] File Downloaded !\n",
            "\n",
            "[%] Downloading Image #10 from https://i.pinimg.com/originals/80/16/29/801629a53470ebedb3d10c020c259f2e.jpg\n",
            "[%] File Downloaded !\n",
            "\n",
            "[%] Downloading Image #11 from https://digitalsynopsis.com/wp-content/uploads/2015/10/funny-honest-logos-famous-companies-7.jpg\n",
            "[%] File Downloaded !\n",
            "\n",
            "[%] Downloading Image #12 from https://www.10wallpaper.com/wallpaper/1440x900/1212/Nike_logo_-_the_global_brand_advertising_wallpaper_05_1440x900.jpg\n",
            "[%] File Downloaded !\n",
            "\n",
            "\n",
            "\n",
            "[!!]Indexing page: 2\n",
            "\n",
            "[%] Indexed 13 Images on Page 2.\n",
            "\n",
            "===============================================\n",
            "\n",
            "[%] Downloading Image #13 from https://stories.starbucks.com/uploads/2019/01/MSR_Logo_-_Starbucks_Rewards-1.jpg\n",
            "[%] File Downloaded !\n",
            "\n",
            "[%] Downloading Image #14 from https://editorial.designtaxi.com/editorial-images/news-colorswap26082015/3.gif\n",
            "[%] File Downloaded !\n",
            "\n",
            "[%] Downloading Image #15 from https://www.bing.com/th/id/OGC.e1c0d0835778bb4c8873a44e8168a7b3?pid=1.7&amp;rurl=https%3a%2f%2feditorial.designtaxi.com%2feditorial-images%2fnews-colorswap26082015%2f3.gif&amp;ehk=y0nJsm9%2fUiVMGdJQUYTWHLoW6NTnz5j6l2CpMdyGnoE%3d\n",
            "[!] Issue getting: https://www.bing.com/th/id/OGC.e1c0d0835778bb4c8873a44e8168a7b3?pid=1.7&amp;rurl=https%3a%2f%2feditorial.designtaxi.com%2feditorial-images%2fnews-colorswap26082015%2f3.gif&amp;ehk=y0nJsm9%2fUiVMGdJQUYTWHLoW6NTnz5j6l2CpMdyGnoE%3d\n",
            "[!] Error:: HTTP Error 404: Not Found\n",
            "[%] Downloading Image #15 from https://compote.slate.com/images/f06d0784-fef7-421c-95aa-4561543eff35.jpg\n",
            "[%] File Downloaded !\n",
            "\n",
            "[%] Downloading Image #16 from https://3.bp.blogspot.com/-EXyJJYpEG7M/WXC9_20NUiI/AAAAAAAAPWw/FN5Z_2euiscuNu6x76xlr2ZEKQGFuX91gCLcBGAs/s640/starbucks-anime-girl-04.jpg\n",
            "[%] File Downloaded !\n",
            "\n",
            "[%] Downloading Image #17 from https://divnil.com/wallpaper/iphone5/img/app/s/t/starbucks_wallpaper_logo_for_iphone_5_and_6_black_background_352145272f81e7151e9ba42fdfa1dedc_raw.jpg\n",
            "[%] File Downloaded !\n",
            "\n",
            "[%] Downloading Image #18 from http://blog.modes4u.com/images/Christmas-crafts-Christmas-Paper-Bag-Makeover/Christmas-crafts-Christmas-Paper-Bag-Makeover-6.jpg\n",
            "[%] File Downloaded !\n",
            "\n",
            "[%] Downloading Image #19 from https://digitalsynopsis.com/wp-content/uploads/2014/08/honest-advertising-slogans-25.jpg\n",
            "[%] File Downloaded !\n",
            "\n",
            "[%] Downloading Image #20 from http://2.bp.blogspot.com/-6PXB8GiL_HM/Tt9sJIBOzWI/AAAAAAAAAHM/uVkI30y3B7M/s1600/costa.jpg\n",
            "[%] File Downloaded !\n",
            "\n",
            "[%] Downloading Image #21 from https://editorial.designtaxi.com/news-gatsbyclothes1604/9.jpeg\n",
            "[%] File Downloaded !\n",
            "\n",
            "[%] Downloading Image #22 from https://i.pinimg.com/originals/80/16/29/801629a53470ebedb3d10c020c259f2e.jpg\n",
            "[%] File Downloaded !\n",
            "\n",
            "[%] Downloading Image #23 from https://digitalsynopsis.com/wp-content/uploads/2015/10/funny-honest-logos-famous-companies-7.jpg\n",
            "[%] File Downloaded !\n",
            "\n",
            "[%] Downloading Image #24 from https://www.10wallpaper.com/wallpaper/1440x900/1212/Nike_logo_-_the_global_brand_advertising_wallpaper_05_1440x900.jpg\n",
            "[%] File Downloaded !\n",
            "\n",
            "\n",
            "\n",
            "[!!]Indexing page: 3\n",
            "\n",
            "[%] Indexed 12 Images on Page 3.\n",
            "\n",
            "===============================================\n",
            "\n",
            "[%] Downloading Image #25 from https://3.bp.blogspot.com/-EXyJJYpEG7M/WXC9_20NUiI/AAAAAAAAPWw/FN5Z_2euiscuNu6x76xlr2ZEKQGFuX91gCLcBGAs/s640/starbucks-anime-girl-04.jpg\n",
            "[%] File Downloaded !\n",
            "\n",
            "[%] Downloading Image #26 from https://digitalsynopsis.com/wp-content/uploads/2015/10/funny-honest-logos-famous-companies-7.jpg\n",
            "[%] File Downloaded !\n",
            "\n",
            "[%] Downloading Image #27 from https://editorial.designtaxi.com/news-gatsbyclothes1604/9.jpeg\n",
            "[%] File Downloaded !\n",
            "\n",
            "[%] Downloading Image #28 from https://divnil.com/wallpaper/iphone5/img/app/s/t/starbucks_wallpaper_logo_for_iphone_5_and_6_black_background_352145272f81e7151e9ba42fdfa1dedc_raw.jpg\n",
            "[%] File Downloaded !\n",
            "\n",
            "[%] Downloading Image #29 from http://blog.modes4u.com/images/Christmas-crafts-Christmas-Paper-Bag-Makeover/Christmas-crafts-Christmas-Paper-Bag-Makeover-6.jpg\n",
            "[%] File Downloaded !\n",
            "\n",
            "[%] Downloading Image #30 from https://digitalsynopsis.com/wp-content/uploads/2014/08/honest-advertising-slogans-25.jpg\n",
            "[%] File Downloaded !\n",
            "\n",
            "\n",
            "\n",
            "[%] Done. Downloaded 30 images.\n",
            "\n",
            "===============================================\n",
            "\n",
            "time: 9.26 s (started: 2021-03-30 06:47:39 +00:00)\n"
          ],
          "name": "stdout"
        }
      ]
    },
    {
      "cell_type": "code",
      "metadata": {
        "colab": {
          "base_uri": "https://localhost:8080/"
        },
        "id": "WtiCs4LTao6O",
        "outputId": "37f3237a-8f62-467c-859e-c6c84b6a72b5"
      },
      "source": [
        "# Downloading Images for Mc Donalds Logo\n",
        "\n",
        "downloader.download(\"McDonalds Logo\",limit=30,output_dir='images',\n",
        "                    adult_filter_off=True)"
      ],
      "execution_count": 5,
      "outputs": [
        {
          "output_type": "stream",
          "text": [
            "\n",
            "\n",
            "[!!]Indexing page: 1\n",
            "\n",
            "[%] Indexed 12 Images on Page 1.\n",
            "\n",
            "===============================================\n",
            "\n",
            "[%] Downloading Image #1 from https://cdn01.dailycaller.com/wp-content/uploads/2018/03/McDonalds-logo-and-French-fries-e1520449495214.jpg\n",
            "[%] File Downloaded !\n",
            "\n",
            "[%] Downloading Image #2 from http://www.wallpapersin4k.org/wp-content/uploads/2017/04/Superhero-Logo-Wallpaper-For-Iphone-23.jpg\n",
            "[%] File Downloaded !\n",
            "\n",
            "[%] Downloading Image #3 from http://www.wallpapersin4k.org/wp-content/uploads/2017/04/Weeping-Willow-Tree-Wallpaper-13.jpg\n",
            "[%] File Downloaded !\n",
            "\n",
            "[%] Downloading Image #4 from https://www.unilad.co.uk/wp-content/uploads/2017/01/44606UNILAD-imageoptim-maccies2.jpg\n",
            "[%] File Downloaded !\n",
            "\n",
            "[%] Downloading Image #5 from http://www.wallpapersin4k.org/wp-content/uploads/2017/04/Red-Gucci-Wallpaper-22.jpg\n",
            "[%] File Downloaded !\n",
            "\n",
            "[%] Downloading Image #6 from http://www.wallpapersin4k.org/wp-content/uploads/2017/04/Islamic-Wallpaper-For-Phone-23.jpg\n",
            "[%] File Downloaded !\n",
            "\n",
            "[%] Downloading Image #7 from https://www.wallpapersin4k.org/wp-content/uploads/2017/04/Blue-Jordan-Logo-Wallpaper-4.jpg\n",
            "[%] File Downloaded !\n",
            "\n",
            "[%] Downloading Image #8 from http://www.wallpapersin4k.org/wp-content/uploads/2017/04/Cute-Adventure-Time-Wallpaper-9.jpg\n",
            "[%] File Downloaded !\n",
            "\n",
            "[%] Downloading Image #9 from https://www.wallpapersin4k.org/wp-content/uploads/2017/04/Sonu-Name-Logo-Wallpaper-6.jpg\n",
            "[%] File Downloaded !\n",
            "\n",
            "[%] Downloading Image #10 from http://www.wallpapersin4k.org/wp-content/uploads/2017/04/Mobile-Wallpapers-Flowers-11.jpg\n",
            "[%] File Downloaded !\n",
            "\n",
            "[%] Downloading Image #11 from http://www.wallpapersin4k.org/wp-content/uploads/2017/04/Sonu-Name-Logo-Wallpaper-2.jpg\n",
            "[%] File Downloaded !\n",
            "\n",
            "[%] Downloading Image #12 from http://www.wallpapersin4k.org/wp-content/uploads/2017/04/Trap-Nation-Wallpaper-1.jpg\n",
            "[%] File Downloaded !\n",
            "\n",
            "\n",
            "\n",
            "[!!]Indexing page: 2\n",
            "\n",
            "[%] Indexed 12 Images on Page 2.\n",
            "\n",
            "===============================================\n",
            "\n",
            "[%] Downloading Image #13 from https://cdn01.dailycaller.com/wp-content/uploads/2018/03/McDonalds-logo-and-French-fries-e1520449495214.jpg\n",
            "[%] File Downloaded !\n",
            "\n",
            "[%] Downloading Image #14 from http://www.wallpapersin4k.org/wp-content/uploads/2017/04/Superhero-Logo-Wallpaper-For-Iphone-23.jpg\n",
            "[%] File Downloaded !\n",
            "\n",
            "[%] Downloading Image #15 from http://www.wallpapersin4k.org/wp-content/uploads/2017/04/Weeping-Willow-Tree-Wallpaper-13.jpg\n",
            "[%] File Downloaded !\n",
            "\n",
            "[%] Downloading Image #16 from https://www.unilad.co.uk/wp-content/uploads/2017/01/44606UNILAD-imageoptim-maccies2.jpg\n",
            "[%] File Downloaded !\n",
            "\n",
            "[%] Downloading Image #17 from http://www.wallpapersin4k.org/wp-content/uploads/2017/04/Red-Gucci-Wallpaper-22.jpg\n",
            "[%] File Downloaded !\n",
            "\n",
            "[%] Downloading Image #18 from http://www.wallpapersin4k.org/wp-content/uploads/2017/04/Islamic-Wallpaper-For-Phone-23.jpg\n",
            "[%] File Downloaded !\n",
            "\n",
            "[%] Downloading Image #19 from https://www.wallpapersin4k.org/wp-content/uploads/2017/04/Blue-Jordan-Logo-Wallpaper-4.jpg\n",
            "[%] File Downloaded !\n",
            "\n",
            "[%] Downloading Image #20 from http://www.wallpapersin4k.org/wp-content/uploads/2017/04/Cute-Adventure-Time-Wallpaper-9.jpg\n",
            "[%] File Downloaded !\n",
            "\n",
            "[%] Downloading Image #21 from https://www.wallpapersin4k.org/wp-content/uploads/2017/04/Sonu-Name-Logo-Wallpaper-6.jpg\n",
            "[%] File Downloaded !\n",
            "\n",
            "[%] Downloading Image #22 from http://www.wallpapersin4k.org/wp-content/uploads/2017/04/Mobile-Wallpapers-Flowers-11.jpg\n",
            "[%] File Downloaded !\n",
            "\n",
            "[%] Downloading Image #23 from http://www.wallpapersin4k.org/wp-content/uploads/2017/04/Sonu-Name-Logo-Wallpaper-2.jpg\n",
            "[%] File Downloaded !\n",
            "\n",
            "[%] Downloading Image #24 from http://www.wallpapersin4k.org/wp-content/uploads/2017/04/Trap-Nation-Wallpaper-1.jpg\n",
            "[%] File Downloaded !\n",
            "\n",
            "\n",
            "\n",
            "[!!]Indexing page: 3\n",
            "\n",
            "[%] Indexed 11 Images on Page 3.\n",
            "\n",
            "===============================================\n",
            "\n",
            "[%] Downloading Image #25 from https://www.unilad.co.uk/wp-content/uploads/2017/01/44606UNILAD-imageoptim-maccies2.jpg\n",
            "[%] File Downloaded !\n",
            "\n",
            "[%] Downloading Image #26 from http://www.wallpapersin4k.org/wp-content/uploads/2017/04/Islamic-Wallpaper-For-Phone-23.jpg\n",
            "[%] File Downloaded !\n",
            "\n",
            "[%] Downloading Image #27 from https://www.wallpapersin4k.org/wp-content/uploads/2017/04/Blue-Jordan-Logo-Wallpaper-4.jpg\n",
            "[%] File Downloaded !\n",
            "\n",
            "[%] Downloading Image #28 from http://www.wallpapersin4k.org/wp-content/uploads/2017/04/Cute-Adventure-Time-Wallpaper-9.jpg\n",
            "[%] File Downloaded !\n",
            "\n",
            "[%] Downloading Image #29 from https://www.wallpapersin4k.org/wp-content/uploads/2017/04/Sonu-Name-Logo-Wallpaper-6.jpg\n",
            "[%] File Downloaded !\n",
            "\n",
            "[%] Downloading Image #30 from http://www.wallpapersin4k.org/wp-content/uploads/2017/04/Mobile-Wallpapers-Flowers-11.jpg\n",
            "[%] File Downloaded !\n",
            "\n",
            "\n",
            "\n",
            "[%] Done. Downloaded 30 images.\n",
            "\n",
            "===============================================\n",
            "\n",
            "time: 20.2 s (started: 2021-03-30 06:47:51 +00:00)\n"
          ],
          "name": "stdout"
        }
      ]
    },
    {
      "cell_type": "code",
      "metadata": {
        "colab": {
          "base_uri": "https://localhost:8080/"
        },
        "id": "TGQAGJAAaxcL",
        "outputId": "12dfbdcf-cc7f-474d-ae28-7ac422d0ca9a"
      },
      "source": [
        "# Downloading Images for Dominos Pizza Logo\n",
        "\n",
        "downloader.download(\"Dominos Pizza Logo\",limit=30,output_dir='images',\n",
        "                    adult_filter_off=True)"
      ],
      "execution_count": 6,
      "outputs": [
        {
          "output_type": "stream",
          "text": [
            "\n",
            "\n",
            "[!!]Indexing page: 1\n",
            "\n",
            "[%] Indexed 12 Images on Page 1.\n",
            "\n",
            "===============================================\n",
            "\n",
            "[%] Downloading Image #1 from https://gawler.org.au/wp-content/uploads/dominos_logo.jpg\n",
            "[%] File Downloaded !\n",
            "\n",
            "[%] Downloading Image #2 from http://www.adweek.com/files/2016_Apr/dominos-boxes-2.jpg\n",
            "[%] File Downloaded !\n",
            "\n",
            "[%] Downloading Image #3 from https://www.bakingbusiness.com/ext/resources/2019/1/DominosMobileBoxes_Lead.jpg?height=635&amp;t=1547840936&amp;width=1200\n",
            "[%] File Downloaded !\n",
            "\n",
            "[%] Downloading Image #4 from https://images.all-free-download.com/images/graphiclarge/domino_set_clip_art_24048.jpg\n",
            "[%] File Downloaded !\n",
            "\n",
            "[%] Downloading Image #5 from https://compote.slate.com/images/54825f6a-1239-4f10-9042-d1307b0ed0ee.jpeg\n",
            "[%] File Downloaded !\n",
            "\n",
            "[%] Downloading Image #6 from https://1000marcas.net/wp-content/uploads/2020/01/Dominos-Pizza-simbolo.jpg\n",
            "[Error]Invalid image, not saving https://1000marcas.net/wp-content/uploads/2020/01/Dominos-Pizza-simbolo.jpg\n",
            "\n",
            "[!] Issue getting: https://1000marcas.net/wp-content/uploads/2020/01/Dominos-Pizza-simbolo.jpg\n",
            "[!] Error:: No active exception to reraise\n",
            "[%] Downloading Image #6 from https://mymodernmet.com/wp/wp-content/uploads/2017/10/ikea-logo-from-memory.jpg\n",
            "[%] File Downloaded !\n",
            "\n",
            "[%] Downloading Image #7 from http://www.ranklogos.com/wp-content/uploads/2015/05/Jubilant-Life-Sciences-Logo.png\n",
            "[%] File Downloaded !\n",
            "\n",
            "[%] Downloading Image #8 from https://i.pinimg.com/236x/cf/85/86/cf8586d95f474b3b86265d24513df079.jpg\n",
            "[%] File Downloaded !\n",
            "\n",
            "[%] Downloading Image #9 from https://www.nrn.com/sites/nrn.com/files/styles/article_featured_standard/public/bob-evans-logo2013.jpg?itok=mGtIQwEx\n",
            "[%] File Downloaded !\n",
            "\n",
            "[%] Downloading Image #10 from https://mir-s3-cdn-cf.behance.net/project_modules/disp/14725e66141055.5b0c62ed020a6.jpg\n",
            "[Error]Invalid image, not saving https://mir-s3-cdn-cf.behance.net/project_modules/disp/14725e66141055.5b0c62ed020a6.jpg\n",
            "\n",
            "[!] Issue getting: https://mir-s3-cdn-cf.behance.net/project_modules/disp/14725e66141055.5b0c62ed020a6.jpg\n",
            "[!] Error:: No active exception to reraise\n",
            "[%] Downloading Image #10 from https://1000logos.net/wp-content/uploads/2017/07/McDonalds-1-500x424.jpg\n",
            "[%] File Downloaded !\n",
            "\n",
            "\n",
            "\n",
            "[!!]Indexing page: 2\n",
            "\n",
            "[%] Indexed 12 Images on Page 2.\n",
            "\n",
            "===============================================\n",
            "\n",
            "[%] Downloading Image #11 from https://gawler.org.au/wp-content/uploads/dominos_logo.jpg\n",
            "[%] File Downloaded !\n",
            "\n",
            "[%] Downloading Image #12 from http://www.adweek.com/files/2016_Apr/dominos-boxes-2.jpg\n",
            "[%] File Downloaded !\n",
            "\n",
            "[%] Downloading Image #13 from https://www.bakingbusiness.com/ext/resources/2019/1/DominosMobileBoxes_Lead.jpg?height=635&amp;t=1547840936&amp;width=1200\n",
            "[%] File Downloaded !\n",
            "\n",
            "[%] Downloading Image #14 from https://images.all-free-download.com/images/graphiclarge/domino_set_clip_art_24048.jpg\n",
            "[%] File Downloaded !\n",
            "\n",
            "[%] Downloading Image #15 from https://compote.slate.com/images/54825f6a-1239-4f10-9042-d1307b0ed0ee.jpeg\n",
            "[%] File Downloaded !\n",
            "\n",
            "[%] Downloading Image #16 from https://1000marcas.net/wp-content/uploads/2020/01/Dominos-Pizza-simbolo.jpg\n",
            "[Error]Invalid image, not saving https://1000marcas.net/wp-content/uploads/2020/01/Dominos-Pizza-simbolo.jpg\n",
            "\n",
            "[!] Issue getting: https://1000marcas.net/wp-content/uploads/2020/01/Dominos-Pizza-simbolo.jpg\n",
            "[!] Error:: No active exception to reraise\n",
            "[%] Downloading Image #16 from https://mymodernmet.com/wp/wp-content/uploads/2017/10/ikea-logo-from-memory.jpg\n",
            "[%] File Downloaded !\n",
            "\n",
            "[%] Downloading Image #17 from http://www.ranklogos.com/wp-content/uploads/2015/05/Jubilant-Life-Sciences-Logo.png\n",
            "[%] File Downloaded !\n",
            "\n",
            "[%] Downloading Image #18 from https://i.pinimg.com/236x/cf/85/86/cf8586d95f474b3b86265d24513df079.jpg\n",
            "[%] File Downloaded !\n",
            "\n",
            "[%] Downloading Image #19 from https://www.nrn.com/sites/nrn.com/files/styles/article_featured_standard/public/bob-evans-logo2013.jpg?itok=mGtIQwEx\n",
            "[%] File Downloaded !\n",
            "\n",
            "[%] Downloading Image #20 from https://mir-s3-cdn-cf.behance.net/project_modules/disp/14725e66141055.5b0c62ed020a6.jpg\n",
            "[Error]Invalid image, not saving https://mir-s3-cdn-cf.behance.net/project_modules/disp/14725e66141055.5b0c62ed020a6.jpg\n",
            "\n",
            "[!] Issue getting: https://mir-s3-cdn-cf.behance.net/project_modules/disp/14725e66141055.5b0c62ed020a6.jpg\n",
            "[!] Error:: No active exception to reraise\n",
            "[%] Downloading Image #20 from https://1000logos.net/wp-content/uploads/2017/07/McDonalds-1-500x424.jpg\n",
            "[%] File Downloaded !\n",
            "\n",
            "\n",
            "\n",
            "[!!]Indexing page: 3\n",
            "\n",
            "[%] Indexed 11 Images on Page 3.\n",
            "\n",
            "===============================================\n",
            "\n",
            "[%] Downloading Image #21 from http://www.adweek.com/files/2016_Apr/dominos-boxes-2.jpg\n",
            "[%] File Downloaded !\n",
            "\n",
            "[%] Downloading Image #22 from https://www.bakingbusiness.com/ext/resources/2019/1/DominosMobileBoxes_Lead.jpg?height=635&amp;t=1547840936&amp;width=1200\n",
            "[%] File Downloaded !\n",
            "\n",
            "[%] Downloading Image #23 from https://images.all-free-download.com/images/graphiclarge/domino_set_clip_art_24048.jpg\n",
            "[%] File Downloaded !\n",
            "\n",
            "[%] Downloading Image #24 from https://compote.slate.com/images/54825f6a-1239-4f10-9042-d1307b0ed0ee.jpeg\n",
            "[%] File Downloaded !\n",
            "\n",
            "[%] Downloading Image #25 from https://1000marcas.net/wp-content/uploads/2020/01/Dominos-Pizza-simbolo.jpg\n",
            "[Error]Invalid image, not saving https://1000marcas.net/wp-content/uploads/2020/01/Dominos-Pizza-simbolo.jpg\n",
            "\n",
            "[!] Issue getting: https://1000marcas.net/wp-content/uploads/2020/01/Dominos-Pizza-simbolo.jpg\n",
            "[!] Error:: No active exception to reraise\n",
            "[%] Downloading Image #25 from https://mymodernmet.com/wp/wp-content/uploads/2017/10/ikea-logo-from-memory.jpg\n",
            "[%] File Downloaded !\n",
            "\n",
            "[%] Downloading Image #26 from http://www.ranklogos.com/wp-content/uploads/2015/05/Jubilant-Life-Sciences-Logo.png\n",
            "[%] File Downloaded !\n",
            "\n",
            "[%] Downloading Image #27 from https://i.pinimg.com/236x/cf/85/86/cf8586d95f474b3b86265d24513df079.jpg\n",
            "[%] File Downloaded !\n",
            "\n",
            "[%] Downloading Image #28 from https://www.nrn.com/sites/nrn.com/files/styles/article_featured_standard/public/bob-evans-logo2013.jpg?itok=mGtIQwEx\n",
            "[%] File Downloaded !\n",
            "\n",
            "[%] Downloading Image #29 from https://mir-s3-cdn-cf.behance.net/project_modules/disp/14725e66141055.5b0c62ed020a6.jpg\n",
            "[Error]Invalid image, not saving https://mir-s3-cdn-cf.behance.net/project_modules/disp/14725e66141055.5b0c62ed020a6.jpg\n",
            "\n",
            "[!] Issue getting: https://mir-s3-cdn-cf.behance.net/project_modules/disp/14725e66141055.5b0c62ed020a6.jpg\n",
            "[!] Error:: No active exception to reraise\n",
            "[%] Downloading Image #29 from https://1000logos.net/wp-content/uploads/2017/07/McDonalds-1-500x424.jpg\n",
            "[%] File Downloaded !\n",
            "\n",
            "\n",
            "\n",
            "[!!]Indexing page: 4\n",
            "\n",
            "[%] Indexed 10 Images on Page 4.\n",
            "\n",
            "===============================================\n",
            "\n",
            "[%] Downloading Image #30 from https://www.bakingbusiness.com/ext/resources/2019/1/DominosMobileBoxes_Lead.jpg?height=635&amp;t=1547840936&amp;width=1200\n",
            "[%] File Downloaded !\n",
            "\n",
            "\n",
            "\n",
            "[%] Done. Downloaded 30 images.\n",
            "\n",
            "===============================================\n",
            "\n",
            "time: 12.3 s (started: 2021-03-30 06:48:18 +00:00)\n"
          ],
          "name": "stdout"
        }
      ]
    },
    {
      "cell_type": "code",
      "metadata": {
        "colab": {
          "base_uri": "https://localhost:8080/"
        },
        "id": "h41A-kyrayVu",
        "outputId": "368982b5-d90f-4a1f-8682-5f8a31b7d5cb"
      },
      "source": [
        "# Downloading Images for Subway Logo\n",
        "\n",
        "downloader.download(\"Subway Logo\",limit=30,output_dir='images',\n",
        "                    adult_filter_off=True)"
      ],
      "execution_count": 7,
      "outputs": [
        {
          "output_type": "stream",
          "text": [
            "\n",
            "\n",
            "[!!]Indexing page: 1\n",
            "\n",
            "[%] Indexed 12 Images on Page 1.\n",
            "\n",
            "===============================================\n",
            "\n",
            "[%] Downloading Image #1 from https://i.ytimg.com/vi/-FWMoErw4DE/maxresdefault.jpg\n",
            "[%] File Downloaded !\n",
            "\n",
            "[%] Downloading Image #2 from http://jigsawpuzzles.online/king-include/uploads/london-tube-subway-metro-logo-underground-3690713820.jpg\n",
            "[%] File Downloaded !\n",
            "\n",
            "[%] Downloading Image #3 from https://upload.wikimedia.org/wikipedia/commons/thumb/1/1d/Komsomolskaya-KL_MosMetro_station_02-2015_platform.jpg/1920px-Komsomolskaya-KL_MosMetro_station_02-2015_platform.jpg\n",
            "[%] File Downloaded !\n",
            "\n",
            "[%] Downloading Image #4 from https://www.nps.gov/zion/planyourvisit/images/subwayweb.jpg\n",
            "[%] File Downloaded !\n",
            "\n",
            "[%] Downloading Image #5 from https://cdn.wallpapersafari.com/3/47/hYXMvn.jpg\n",
            "[%] File Downloaded !\n",
            "\n",
            "[%] Downloading Image #6 from https://www.nps.gov/gree/planyourvisit/images/Fall-colors-in-the-sweetgum-Picnic-900-x-600.jpg\n",
            "[%] File Downloaded !\n",
            "\n",
            "[%] Downloading Image #7 from https://cdn.msisurfaces.com/images/backsplash/large/dove-gray.jpg\n",
            "[%] File Downloaded !\n",
            "\n",
            "[%] Downloading Image #8 from https://images.victoriaplum.com/vp_prod_images/0fe95890-6bb6-49cc-85f5-c2011d166f0d.jpg?auto=format%2Ccompress&amp;q=55&amp;w=600\n",
            "[%] File Downloaded !\n",
            "\n",
            "[%] Downloading Image #9 from https://assets3.thrillist.com/v1/image/2853682/1200x600/scale;\n",
            "[%] File Downloaded !\n",
            "\n",
            "[%] Downloading Image #10 from http://pluspng.com/img-png/seal-animal-png-seal-839.png\n",
            "[%] File Downloaded !\n",
            "\n",
            "[%] Downloading Image #11 from https://clipartart.com/images/escape-from-tarkov-clipart-1.png\n",
            "[%] File Downloaded !\n",
            "\n",
            "[%] Downloading Image #12 from http://3.bp.blogspot.com/_annTPGBcsB4/Sl03XkdNZEI/AAAAAAAACfo/5mKdwtn9sTg/s400/DSCI0320.jpg\n",
            "[%] File Downloaded !\n",
            "\n",
            "\n",
            "\n",
            "[!!]Indexing page: 2\n",
            "\n",
            "[%] Indexed 12 Images on Page 2.\n",
            "\n",
            "===============================================\n",
            "\n",
            "[%] Downloading Image #13 from https://i.ytimg.com/vi/-FWMoErw4DE/maxresdefault.jpg\n",
            "[%] File Downloaded !\n",
            "\n",
            "[%] Downloading Image #14 from http://jigsawpuzzles.online/king-include/uploads/london-tube-subway-metro-logo-underground-3690713820.jpg\n",
            "[%] File Downloaded !\n",
            "\n",
            "[%] Downloading Image #15 from https://upload.wikimedia.org/wikipedia/commons/thumb/1/1d/Komsomolskaya-KL_MosMetro_station_02-2015_platform.jpg/1920px-Komsomolskaya-KL_MosMetro_station_02-2015_platform.jpg\n",
            "[%] File Downloaded !\n",
            "\n",
            "[%] Downloading Image #16 from https://www.nps.gov/zion/planyourvisit/images/subwayweb.jpg\n",
            "[%] File Downloaded !\n",
            "\n",
            "[%] Downloading Image #17 from https://cdn.wallpapersafari.com/3/47/hYXMvn.jpg\n",
            "[%] File Downloaded !\n",
            "\n",
            "[%] Downloading Image #18 from https://www.nps.gov/gree/planyourvisit/images/Fall-colors-in-the-sweetgum-Picnic-900-x-600.jpg\n",
            "[%] File Downloaded !\n",
            "\n",
            "[%] Downloading Image #19 from https://cdn.msisurfaces.com/images/backsplash/large/dove-gray.jpg\n",
            "[%] File Downloaded !\n",
            "\n",
            "[%] Downloading Image #20 from https://images.victoriaplum.com/vp_prod_images/0fe95890-6bb6-49cc-85f5-c2011d166f0d.jpg?auto=format%2Ccompress&amp;q=55&amp;w=600\n",
            "[%] File Downloaded !\n",
            "\n",
            "[%] Downloading Image #21 from https://assets3.thrillist.com/v1/image/2853682/1200x600/scale;\n",
            "[%] File Downloaded !\n",
            "\n",
            "[%] Downloading Image #22 from http://pluspng.com/img-png/seal-animal-png-seal-839.png\n",
            "[%] File Downloaded !\n",
            "\n",
            "[%] Downloading Image #23 from https://clipartart.com/images/escape-from-tarkov-clipart-1.png\n",
            "[%] File Downloaded !\n",
            "\n",
            "[%] Downloading Image #24 from http://3.bp.blogspot.com/_annTPGBcsB4/Sl03XkdNZEI/AAAAAAAACfo/5mKdwtn9sTg/s400/DSCI0320.jpg\n",
            "[%] File Downloaded !\n",
            "\n",
            "\n",
            "\n",
            "[!!]Indexing page: 3\n",
            "\n",
            "[%] Indexed 11 Images on Page 3.\n",
            "\n",
            "===============================================\n",
            "\n",
            "[%] Downloading Image #25 from http://jigsawpuzzles.online/king-include/uploads/london-tube-subway-metro-logo-underground-3690713820.jpg\n",
            "[%] File Downloaded !\n",
            "\n",
            "[%] Downloading Image #26 from https://upload.wikimedia.org/wikipedia/commons/thumb/1/1d/Komsomolskaya-KL_MosMetro_station_02-2015_platform.jpg/1920px-Komsomolskaya-KL_MosMetro_station_02-2015_platform.jpg\n",
            "[%] File Downloaded !\n",
            "\n",
            "[%] Downloading Image #27 from https://www.nps.gov/zion/planyourvisit/images/subwayweb.jpg\n",
            "[%] File Downloaded !\n",
            "\n",
            "[%] Downloading Image #28 from https://cdn.wallpapersafari.com/3/47/hYXMvn.jpg\n",
            "[%] File Downloaded !\n",
            "\n",
            "[%] Downloading Image #29 from https://www.nps.gov/gree/planyourvisit/images/Fall-colors-in-the-sweetgum-Picnic-900-x-600.jpg\n",
            "[%] File Downloaded !\n",
            "\n",
            "[%] Downloading Image #30 from https://cdn.msisurfaces.com/images/backsplash/large/dove-gray.jpg\n",
            "[%] File Downloaded !\n",
            "\n",
            "\n",
            "\n",
            "[%] Done. Downloaded 30 images.\n",
            "\n",
            "===============================================\n",
            "\n",
            "time: 6.95 s (started: 2021-03-30 06:49:22 +00:00)\n"
          ],
          "name": "stdout"
        }
      ]
    },
    {
      "cell_type": "code",
      "metadata": {
        "colab": {
          "base_uri": "https://localhost:8080/"
        },
        "id": "8EAYC73cay7G",
        "outputId": "5a3c0b12-ae24-4cd0-ced0-33c681e306d1"
      },
      "source": [
        "# Downloading Images for KFC Logo\n",
        "\n",
        "downloader.download(\"KFC Logo\",limit=30,output_dir='images',\n",
        "                    adult_filter_off=True)"
      ],
      "execution_count": 8,
      "outputs": [
        {
          "output_type": "stream",
          "text": [
            "\n",
            "\n",
            "[!!]Indexing page: 1\n",
            "\n",
            "[%] Indexed 12 Images on Page 1.\n",
            "\n",
            "===============================================\n",
            "\n",
            "[%] Downloading Image #1 from https://4.bp.blogspot.com/-bXEaK-o3HMU/T_6cldHCg1I/AAAAAAAABfw/A_ObrrMa1uA/s1600/255294_414654238578499_1089756614_n.jpg\n",
            "[%] File Downloaded !\n",
            "\n",
            "[%] Downloading Image #2 from https://thumbs.dreamstime.com/b/kfc-sign-restaurant-big-logo-blue-sky-32026274.jpg\n",
            "[%] File Downloaded !\n",
            "\n",
            "[%] Downloading Image #3 from https://i.ytimg.com/vi/dE7DM-hXP_4/maxresdefault.jpg\n",
            "[%] File Downloaded !\n",
            "\n",
            "[%] Downloading Image #4 from https://www.agenciatelling.com/wp-content/uploads/2016/05/logo-kfc-antes-despues.jpg\n",
            "[%] File Downloaded !\n",
            "\n",
            "[%] Downloading Image #5 from https://i.ytimg.com/vi/CD3o-g5bUSg/maxresdefault.jpg\n",
            "[%] File Downloaded !\n",
            "\n",
            "[%] Downloading Image #6 from https://fastfoodinusa.com/templates/uploads/category_icon/big/Churches-Chicken_logo.png\n",
            "[%] File Downloaded !\n",
            "\n",
            "[%] Downloading Image #7 from https://thumbs.dreamstime.com/z/customers-buying-fast-food-products-inside-kfc-kentucky-fried-chicken-restaurant-blue-tables-red-chairs-33197766.jpg\n",
            "[%] File Downloaded !\n",
            "\n",
            "[%] Downloading Image #8 from https://cdn.freebiesupply.com/logos/thumbs/2x/kpmg-1-logo.png\n",
            "[%] File Downloaded !\n",
            "\n",
            "[%] Downloading Image #9 from http://www.teevault.com/wp-content/uploads/2010/07/cannabis-adidas-t-shirt-300x199.jpg\n",
            "[Error]Invalid image, not saving http://www.teevault.com/wp-content/uploads/2010/07/cannabis-adidas-t-shirt-300x199.jpg\n",
            "\n",
            "[!] Issue getting: http://www.teevault.com/wp-content/uploads/2010/07/cannabis-adidas-t-shirt-300x199.jpg\n",
            "[!] Error:: No active exception to reraise\n",
            "[%] Downloading Image #9 from https://swnz.co.nz/wp-content/uploads/2017/12/KFC_SpecEd05.jpg\n",
            "[%] File Downloaded !\n",
            "\n",
            "[%] Downloading Image #10 from http://cdn.wallpapersafari.com/62/28/I2jTRm.jpg\n",
            "[%] File Downloaded !\n",
            "\n",
            "[%] Downloading Image #11 from http://1000logos.net/wp-content/uploads/2017/07/Snapchat.jpg\n",
            "[Error]Invalid image, not saving http://1000logos.net/wp-content/uploads/2017/07/Snapchat.jpg\n",
            "\n",
            "[!] Issue getting: http://1000logos.net/wp-content/uploads/2017/07/Snapchat.jpg\n",
            "[!] Error:: No active exception to reraise\n",
            "\n",
            "\n",
            "[!!]Indexing page: 2\n",
            "\n",
            "[%] Indexed 12 Images on Page 2.\n",
            "\n",
            "===============================================\n",
            "\n",
            "[%] Downloading Image #11 from https://4.bp.blogspot.com/-bXEaK-o3HMU/T_6cldHCg1I/AAAAAAAABfw/A_ObrrMa1uA/s1600/255294_414654238578499_1089756614_n.jpg\n",
            "[%] File Downloaded !\n",
            "\n",
            "[%] Downloading Image #12 from https://thumbs.dreamstime.com/b/kfc-sign-restaurant-big-logo-blue-sky-32026274.jpg\n",
            "[%] File Downloaded !\n",
            "\n",
            "[%] Downloading Image #13 from https://i.ytimg.com/vi/dE7DM-hXP_4/maxresdefault.jpg\n",
            "[%] File Downloaded !\n",
            "\n",
            "[%] Downloading Image #14 from https://i.ytimg.com/vi/CD3o-g5bUSg/maxresdefault.jpg\n",
            "[%] File Downloaded !\n",
            "\n",
            "[%] Downloading Image #15 from https://www.agenciatelling.com/wp-content/uploads/2016/05/logo-kfc-antes-despues.jpg\n",
            "[%] File Downloaded !\n",
            "\n",
            "[%] Downloading Image #16 from https://fastfoodinusa.com/templates/uploads/category_icon/big/Churches-Chicken_logo.png\n",
            "[%] File Downloaded !\n",
            "\n",
            "[%] Downloading Image #17 from https://thumbs.dreamstime.com/z/customers-buying-fast-food-products-inside-kfc-kentucky-fried-chicken-restaurant-blue-tables-red-chairs-33197766.jpg\n",
            "[%] File Downloaded !\n",
            "\n",
            "[%] Downloading Image #18 from https://cdn.freebiesupply.com/logos/thumbs/2x/kpmg-1-logo.png\n",
            "[%] File Downloaded !\n",
            "\n",
            "[%] Downloading Image #19 from http://www.teevault.com/wp-content/uploads/2010/07/cannabis-adidas-t-shirt-300x199.jpg\n",
            "[Error]Invalid image, not saving http://www.teevault.com/wp-content/uploads/2010/07/cannabis-adidas-t-shirt-300x199.jpg\n",
            "\n",
            "[!] Issue getting: http://www.teevault.com/wp-content/uploads/2010/07/cannabis-adidas-t-shirt-300x199.jpg\n",
            "[!] Error:: No active exception to reraise\n",
            "[%] Downloading Image #19 from https://swnz.co.nz/wp-content/uploads/2017/12/KFC_SpecEd05.jpg\n",
            "[%] File Downloaded !\n",
            "\n",
            "[%] Downloading Image #20 from http://cdn.wallpapersafari.com/62/28/I2jTRm.jpg\n",
            "[%] File Downloaded !\n",
            "\n",
            "[%] Downloading Image #21 from https://i.pinimg.com/736x/ee/ac/11/eeac11511cb64bf1631d82b035a48855.jpg\n",
            "[%] File Downloaded !\n",
            "\n",
            "\n",
            "\n",
            "[!!]Indexing page: 3\n",
            "\n",
            "[%] Indexed 11 Images on Page 3.\n",
            "\n",
            "===============================================\n",
            "\n",
            "[%] Downloading Image #22 from https://thumbs.dreamstime.com/b/kfc-sign-restaurant-big-logo-blue-sky-32026274.jpg\n",
            "[%] File Downloaded !\n",
            "\n",
            "[%] Downloading Image #23 from https://i.ytimg.com/vi/dE7DM-hXP_4/maxresdefault.jpg\n",
            "[%] File Downloaded !\n",
            "\n",
            "[%] Downloading Image #24 from https://www.agenciatelling.com/wp-content/uploads/2016/05/logo-kfc-antes-despues.jpg\n",
            "[%] File Downloaded !\n",
            "\n",
            "[%] Downloading Image #25 from https://i.ytimg.com/vi/CD3o-g5bUSg/maxresdefault.jpg\n",
            "[%] File Downloaded !\n",
            "\n",
            "[%] Downloading Image #26 from https://fastfoodinusa.com/templates/uploads/category_icon/big/Churches-Chicken_logo.png\n",
            "[%] File Downloaded !\n",
            "\n",
            "[%] Downloading Image #27 from https://thumbs.dreamstime.com/z/customers-buying-fast-food-products-inside-kfc-kentucky-fried-chicken-restaurant-blue-tables-red-chairs-33197766.jpg\n",
            "[%] File Downloaded !\n",
            "\n",
            "[%] Downloading Image #28 from https://cdn.freebiesupply.com/logos/thumbs/2x/kpmg-1-logo.png\n",
            "[%] File Downloaded !\n",
            "\n",
            "[%] Downloading Image #29 from http://www.teevault.com/wp-content/uploads/2010/07/cannabis-adidas-t-shirt-300x199.jpg\n",
            "[Error]Invalid image, not saving http://www.teevault.com/wp-content/uploads/2010/07/cannabis-adidas-t-shirt-300x199.jpg\n",
            "\n",
            "[!] Issue getting: http://www.teevault.com/wp-content/uploads/2010/07/cannabis-adidas-t-shirt-300x199.jpg\n",
            "[!] Error:: No active exception to reraise\n",
            "[%] Downloading Image #29 from https://swnz.co.nz/wp-content/uploads/2017/12/KFC_SpecEd05.jpg\n",
            "[%] File Downloaded !\n",
            "\n",
            "[%] Downloading Image #30 from http://cdn.wallpapersafari.com/62/28/I2jTRm.jpg\n",
            "[%] File Downloaded !\n",
            "\n",
            "\n",
            "\n",
            "[%] Done. Downloaded 30 images.\n",
            "\n",
            "===============================================\n",
            "\n",
            "time: 7.76 s (started: 2021-03-30 06:49:32 +00:00)\n"
          ],
          "name": "stdout"
        }
      ]
    },
    {
      "cell_type": "code",
      "metadata": {
        "colab": {
          "base_uri": "https://localhost:8080/"
        },
        "id": "FlOxt4jgaznR",
        "outputId": "129f9ca4-13f8-418d-e23b-db958244d62e"
      },
      "source": [
        "# Downloading Images for Pizza Hut Logo\n",
        "\n",
        "downloader.download(\"Pizza Hut Logo\",limit=30,output_dir='images',\n",
        "                    adult_filter_off=True)"
      ],
      "execution_count": 9,
      "outputs": [
        {
          "output_type": "stream",
          "text": [
            "\n",
            "\n",
            "[!!]Indexing page: 1\n",
            "\n",
            "[%] Indexed 12 Images on Page 1.\n",
            "\n",
            "===============================================\n",
            "\n",
            "[%] Downloading Image #1 from https://upload.wikimedia.org/wikipedia/commons/thumb/a/a0/Pizza_Hut_international_logo%2C_2008–2016.svg/1200px-Pizza_Hut_international_logo%2C_2008–2016.svg.png\n",
            "[!] Issue getting: https://upload.wikimedia.org/wikipedia/commons/thumb/a/a0/Pizza_Hut_international_logo%2C_2008–2016.svg/1200px-Pizza_Hut_international_logo%2C_2008–2016.svg.png\n",
            "[!] Error:: 'ascii' codec can't encode character '\\u2013' in position 70: ordinal not in range(128)\n",
            "[%] Downloading Image #1 from https://money.cnn.com/2001/05/02/companies/space_advertising/pizza.jpg\n",
            "[%] File Downloaded !\n",
            "\n",
            "[%] Downloading Image #2 from https://i.ytimg.com/vi/AELoCNlcKWE/maxresdefault.jpg\n",
            "[%] File Downloaded !\n",
            "\n",
            "[%] Downloading Image #3 from https://i.ytimg.com/vi/ientHpVk_9Y/maxresdefault.jpg\n",
            "[%] File Downloaded !\n",
            "\n",
            "[%] Downloading Image #4 from https://www.uvu.edu/dining/images/locations/cupbop-logo.jpg\n",
            "[%] File Downloaded !\n",
            "\n",
            "[%] Downloading Image #5 from http://www.nrn.com/sites/nrn.com/files/zaxbys-logo-2015-promo_0.png\n",
            "[%] File Downloaded !\n",
            "\n",
            "[%] Downloading Image #6 from https://cdn.vox-cdn.com/thumbor/zauoj_DlAzUo3xmr4caqu6xfDLU=/0x166:4000x2833/1200x800/filters:focal(0x166:4000x2833)/cdn.vox-cdn.com/uploads/chorus_image/image/42854322/Cheese-and-Tomato-Pizza-Dominos.0.0.jpg\n",
            "[%] File Downloaded !\n",
            "\n",
            "[%] Downloading Image #7 from https://pbs.twimg.com/media/DYWDe-hWsAAJL0g.jpg:large\n",
            "[%] File Downloaded !\n",
            "\n",
            "[%] Downloading Image #8 from https://cdn.freebiesupply.com/logos/thumbs/2x/pennzoil-1-logo.png\n",
            "[%] File Downloaded !\n",
            "\n",
            "[%] Downloading Image #9 from http://www.airpros.org/wp-content/uploads/2013/04/WaffleHouse-01-637x424.png\n",
            "[%] File Downloaded !\n",
            "\n",
            "[%] Downloading Image #10 from https://web3mantra.com/wp-content/uploads/2011/07/Coffee.jpg\n",
            "[%] File Downloaded !\n",
            "\n",
            "[%] Downloading Image #11 from https://1000marcas.net/wp-content/uploads/2020/03/Taco-Bell-símbolo.jpg\n",
            "[!] Issue getting: https://1000marcas.net/wp-content/uploads/2020/03/Taco-Bell-símbolo.jpg\n",
            "[!] Error:: 'ascii' codec can't encode character '\\xed' in position 43: ordinal not in range(128)\n",
            "\n",
            "\n",
            "[!!]Indexing page: 2\n",
            "\n",
            "[%] Indexed 12 Images on Page 2.\n",
            "\n",
            "===============================================\n",
            "\n",
            "[%] Downloading Image #11 from https://upload.wikimedia.org/wikipedia/commons/thumb/a/a0/Pizza_Hut_international_logo%2C_2008–2016.svg/1200px-Pizza_Hut_international_logo%2C_2008–2016.svg.png\n",
            "[!] Issue getting: https://upload.wikimedia.org/wikipedia/commons/thumb/a/a0/Pizza_Hut_international_logo%2C_2008–2016.svg/1200px-Pizza_Hut_international_logo%2C_2008–2016.svg.png\n",
            "[!] Error:: 'ascii' codec can't encode character '\\u2013' in position 70: ordinal not in range(128)\n",
            "[%] Downloading Image #11 from https://money.cnn.com/2001/05/02/companies/space_advertising/pizza.jpg\n",
            "[%] File Downloaded !\n",
            "\n",
            "[%] Downloading Image #12 from https://i.ytimg.com/vi/AELoCNlcKWE/maxresdefault.jpg\n",
            "[%] File Downloaded !\n",
            "\n",
            "[%] Downloading Image #13 from https://i.ytimg.com/vi/ientHpVk_9Y/maxresdefault.jpg\n",
            "[%] File Downloaded !\n",
            "\n",
            "[%] Downloading Image #14 from https://www.uvu.edu/dining/images/locations/cupbop-logo.jpg\n",
            "[%] File Downloaded !\n",
            "\n",
            "[%] Downloading Image #15 from http://www.nrn.com/sites/nrn.com/files/zaxbys-logo-2015-promo_0.png\n",
            "[%] File Downloaded !\n",
            "\n",
            "[%] Downloading Image #16 from https://cdn.vox-cdn.com/thumbor/zauoj_DlAzUo3xmr4caqu6xfDLU=/0x166:4000x2833/1200x800/filters:focal(0x166:4000x2833)/cdn.vox-cdn.com/uploads/chorus_image/image/42854322/Cheese-and-Tomato-Pizza-Dominos.0.0.jpg\n",
            "[%] File Downloaded !\n",
            "\n",
            "[%] Downloading Image #17 from https://pbs.twimg.com/media/DYWDe-hWsAAJL0g.jpg:large\n",
            "[%] File Downloaded !\n",
            "\n",
            "[%] Downloading Image #18 from https://cdn.freebiesupply.com/logos/thumbs/2x/pennzoil-1-logo.png\n",
            "[%] File Downloaded !\n",
            "\n",
            "[%] Downloading Image #19 from http://www.airpros.org/wp-content/uploads/2013/04/WaffleHouse-01-637x424.png\n",
            "[%] File Downloaded !\n",
            "\n",
            "[%] Downloading Image #20 from https://web3mantra.com/wp-content/uploads/2011/07/Coffee.jpg\n",
            "[%] File Downloaded !\n",
            "\n",
            "[%] Downloading Image #21 from https://1000marcas.net/wp-content/uploads/2020/03/Taco-Bell-símbolo.jpg\n",
            "[!] Issue getting: https://1000marcas.net/wp-content/uploads/2020/03/Taco-Bell-símbolo.jpg\n",
            "[!] Error:: 'ascii' codec can't encode character '\\xed' in position 43: ordinal not in range(128)\n",
            "\n",
            "\n",
            "[!!]Indexing page: 3\n",
            "\n",
            "[%] Indexed 11 Images on Page 3.\n",
            "\n",
            "===============================================\n",
            "\n",
            "[%] Downloading Image #21 from https://money.cnn.com/2001/05/02/companies/space_advertising/pizza.jpg\n",
            "[%] File Downloaded !\n",
            "\n",
            "[%] Downloading Image #22 from https://i.ytimg.com/vi/AELoCNlcKWE/maxresdefault.jpg\n",
            "[%] File Downloaded !\n",
            "\n",
            "[%] Downloading Image #23 from https://i.ytimg.com/vi/ientHpVk_9Y/maxresdefault.jpg\n",
            "[%] File Downloaded !\n",
            "\n",
            "[%] Downloading Image #24 from https://www.uvu.edu/dining/images/locations/cupbop-logo.jpg\n",
            "[%] File Downloaded !\n",
            "\n",
            "[%] Downloading Image #25 from http://www.nrn.com/sites/nrn.com/files/zaxbys-logo-2015-promo_0.png\n",
            "[%] File Downloaded !\n",
            "\n",
            "[%] Downloading Image #26 from https://cdn.vox-cdn.com/thumbor/zauoj_DlAzUo3xmr4caqu6xfDLU=/0x166:4000x2833/1200x800/filters:focal(0x166:4000x2833)/cdn.vox-cdn.com/uploads/chorus_image/image/42854322/Cheese-and-Tomato-Pizza-Dominos.0.0.jpg\n",
            "[%] File Downloaded !\n",
            "\n",
            "[%] Downloading Image #27 from https://pbs.twimg.com/media/DYWDe-hWsAAJL0g.jpg:large\n",
            "[%] File Downloaded !\n",
            "\n",
            "[%] Downloading Image #28 from https://cdn.freebiesupply.com/logos/thumbs/2x/pennzoil-1-logo.png\n",
            "[%] File Downloaded !\n",
            "\n",
            "[%] Downloading Image #29 from http://www.airpros.org/wp-content/uploads/2013/04/WaffleHouse-01-637x424.png\n",
            "[%] File Downloaded !\n",
            "\n",
            "[%] Downloading Image #30 from https://web3mantra.com/wp-content/uploads/2011/07/Coffee.jpg\n",
            "[%] File Downloaded !\n",
            "\n",
            "\n",
            "\n",
            "[%] Done. Downloaded 30 images.\n",
            "\n",
            "===============================================\n",
            "\n",
            "time: 4.66 s (started: 2021-03-30 06:49:43 +00:00)\n"
          ],
          "name": "stdout"
        }
      ]
    },
    {
      "cell_type": "code",
      "metadata": {
        "colab": {
          "base_uri": "https://localhost:8080/"
        },
        "id": "tHk0v2qClRwj",
        "outputId": "4c539c61-ac1d-46a6-f322-1ea1dbfe9fca"
      },
      "source": [
        "# Downloading Images for Burger King Logo\n",
        "\n",
        "downloader.download(\"Burger King Logo\",limit=30,output_dir='images',\n",
        "                    adult_filter_off=True)"
      ],
      "execution_count": 10,
      "outputs": [
        {
          "output_type": "stream",
          "text": [
            "\n",
            "\n",
            "[!!]Indexing page: 1\n",
            "\n",
            "[%] Indexed 12 Images on Page 1.\n",
            "\n",
            "===============================================\n",
            "\n",
            "[%] Downloading Image #1 from http://1.bp.blogspot.com/-htePWqcnTrc/T0QFXBP6nfI/AAAAAAABMWA/FOW6AzqeApQ/s1600/Burger-King-Logo16.jpg\n",
            "[%] File Downloaded !\n",
            "\n",
            "[%] Downloading Image #2 from http://themindcircle.com/wp-content/uploads/2017/10/famous-brand-logos-drawn-from-memory-13.jpg\n",
            "[%] File Downloaded !\n",
            "\n",
            "[%] Downloading Image #3 from https://static.adweek.com/adweek.com-prod/wp-content/uploads/files/blogs/bk-logo-asl-hed-2016.jpg\n",
            "[%] File Downloaded !\n",
            "\n",
            "[%] Downloading Image #4 from https://digitalsynopsis.com/wp-content/uploads/2017/10/famous-brand-logos-drawn-from-memory-7-eleven-drawings.png\n",
            "[%] File Downloaded !\n",
            "\n",
            "[%] Downloading Image #5 from https://i.ytimg.com/vi/2GVs00xkoiE/maxresdefault.jpg\n",
            "[%] File Downloaded !\n",
            "\n",
            "[%] Downloading Image #6 from https://cei.org/sites/default/files/getty_92020133_20001527181884336163_327730.jpg\n",
            "[%] File Downloaded !\n",
            "\n",
            "[%] Downloading Image #7 from https://assets.b9.com.br/wp-content/uploads/2021/01/BK_Rebrand_Stills_Overview_1-2500x1406.jpg\n",
            "[%] File Downloaded !\n",
            "\n",
            "[%] Downloading Image #8 from https://farm4.staticflickr.com/3528/3743163509_969204f2ac_z.jpg?zz=1\n",
            "[%] File Downloaded !\n",
            "\n",
            "[%] Downloading Image #9 from http://www.chicagofoodmagazine.com/content/images/media-295/_large/unnamed1.jpg\n",
            "[%] File Downloaded !\n",
            "\n",
            "[%] Downloading Image #10 from http://lofrev.net/wp-content/photos/2016/07/hot_wheels_logo-1007x429.jpg\n",
            "[%] File Downloaded !\n",
            "\n",
            "[%] Downloading Image #11 from https://i.ytimg.com/vi/nCc18JQowLA/maxresdefault.jpg\n",
            "[%] File Downloaded !\n",
            "\n",
            "[%] Downloading Image #12 from http://www.pokercollectif.com/images/buzz/Mario-Bros-Collection.jpg\n",
            "[%] File Downloaded !\n",
            "\n",
            "\n",
            "\n",
            "[!!]Indexing page: 2\n",
            "\n",
            "[%] Indexed 12 Images on Page 2.\n",
            "\n",
            "===============================================\n",
            "\n",
            "[%] Downloading Image #13 from http://1.bp.blogspot.com/-htePWqcnTrc/T0QFXBP6nfI/AAAAAAABMWA/FOW6AzqeApQ/s1600/Burger-King-Logo16.jpg\n",
            "[%] File Downloaded !\n",
            "\n",
            "[%] Downloading Image #14 from http://themindcircle.com/wp-content/uploads/2017/10/famous-brand-logos-drawn-from-memory-13.jpg\n",
            "[%] File Downloaded !\n",
            "\n",
            "[%] Downloading Image #15 from https://static.adweek.com/adweek.com-prod/wp-content/uploads/files/blogs/bk-logo-asl-hed-2016.jpg\n",
            "[%] File Downloaded !\n",
            "\n",
            "[%] Downloading Image #16 from https://digitalsynopsis.com/wp-content/uploads/2017/10/famous-brand-logos-drawn-from-memory-7-eleven-drawings.png\n",
            "[%] File Downloaded !\n",
            "\n",
            "[%] Downloading Image #17 from https://i.ytimg.com/vi/2GVs00xkoiE/maxresdefault.jpg\n",
            "[%] File Downloaded !\n",
            "\n",
            "[%] Downloading Image #18 from https://cei.org/sites/default/files/getty_92020133_20001527181884336163_327730.jpg\n",
            "[%] File Downloaded !\n",
            "\n",
            "[%] Downloading Image #19 from https://assets.b9.com.br/wp-content/uploads/2021/01/BK_Rebrand_Stills_Overview_1-2500x1406.jpg\n",
            "[%] File Downloaded !\n",
            "\n",
            "[%] Downloading Image #20 from https://farm4.staticflickr.com/3528/3743163509_969204f2ac_z.jpg?zz=1\n",
            "[%] File Downloaded !\n",
            "\n",
            "[%] Downloading Image #21 from http://www.chicagofoodmagazine.com/content/images/media-295/_large/unnamed1.jpg\n",
            "[%] File Downloaded !\n",
            "\n",
            "[%] Downloading Image #22 from http://lofrev.net/wp-content/photos/2016/07/hot_wheels_logo-1007x429.jpg\n",
            "[%] File Downloaded !\n",
            "\n",
            "[%] Downloading Image #23 from https://i.ytimg.com/vi/nCc18JQowLA/maxresdefault.jpg\n",
            "[%] File Downloaded !\n",
            "\n",
            "[%] Downloading Image #24 from http://www.pokercollectif.com/images/buzz/Mario-Bros-Collection.jpg\n",
            "[%] File Downloaded !\n",
            "\n",
            "\n",
            "\n",
            "[!!]Indexing page: 3\n",
            "\n",
            "[%] Indexed 11 Images on Page 3.\n",
            "\n",
            "===============================================\n",
            "\n",
            "[%] Downloading Image #25 from http://themindcircle.com/wp-content/uploads/2017/10/famous-brand-logos-drawn-from-memory-13.jpg\n",
            "[%] File Downloaded !\n",
            "\n",
            "[%] Downloading Image #26 from https://static.adweek.com/adweek.com-prod/wp-content/uploads/files/blogs/bk-logo-asl-hed-2016.jpg\n",
            "[%] File Downloaded !\n",
            "\n",
            "[%] Downloading Image #27 from https://digitalsynopsis.com/wp-content/uploads/2017/10/famous-brand-logos-drawn-from-memory-7-eleven-drawings.png\n",
            "[%] File Downloaded !\n",
            "\n",
            "[%] Downloading Image #28 from https://i.ytimg.com/vi/2GVs00xkoiE/maxresdefault.jpg\n",
            "[%] File Downloaded !\n",
            "\n",
            "[%] Downloading Image #29 from https://cei.org/sites/default/files/getty_92020133_20001527181884336163_327730.jpg\n",
            "[%] File Downloaded !\n",
            "\n",
            "[%] Downloading Image #30 from https://assets.b9.com.br/wp-content/uploads/2021/01/BK_Rebrand_Stills_Overview_1-2500x1406.jpg\n",
            "[%] File Downloaded !\n",
            "\n",
            "\n",
            "\n",
            "[%] Done. Downloaded 30 images.\n",
            "\n",
            "===============================================\n",
            "\n",
            "time: 6.2 s (started: 2021-03-30 06:49:51 +00:00)\n"
          ],
          "name": "stdout"
        }
      ]
    },
    {
      "cell_type": "code",
      "metadata": {
        "colab": {
          "base_uri": "https://localhost:8080/"
        },
        "id": "3kwpszs2y1uM",
        "outputId": "ab712601-da6e-422b-9fff-d69b1e1db836"
      },
      "source": [
        "# Downloading Images for Cafe Coffee Day Logo\n",
        "\n",
        "downloader.download(\"Cafe Coffee Day Logo\",limit=30,output_dir='images',\n",
        "                    adult_filter_off=True)"
      ],
      "execution_count": 11,
      "outputs": [
        {
          "output_type": "stream",
          "text": [
            "\n",
            "\n",
            "[!!]Indexing page: 1\n",
            "\n",
            "[%] Indexed 13 Images on Page 1.\n",
            "\n",
            "===============================================\n",
            "\n",
            "[%] Downloading Image #1 from https://images.template.net/wp-content/uploads/2016/08/19111336/Coffee-Logo.jpg\n",
            "[%] File Downloaded !\n",
            "\n",
            "[%] Downloading Image #2 from https://3axis.co/user-images/eo2gkl18.png\n",
            "[%] File Downloaded !\n",
            "\n",
            "[%] Downloading Image #3 from http://www.telegraph.co.uk/content/dam/Travel/galleries/travel/picturegalleries/Culture-Day-21-weird-and-wonderful-things-about-Japan/japan-maid_3490514a.jpg?imwidth=450\n",
            "[%] File Downloaded !\n",
            "\n",
            "[%] Downloading Image #4 from https://digitalsynopsis.com/wp-content/uploads/2016/05/ready-in-an-instant-pronto-cafe-businessman.jpg\n",
            "[%] File Downloaded !\n",
            "\n",
            "[%] Downloading Image #5 from http://static2.businessinsider.com/image/560ee0219dd7cc25008beee6-3033-2275/rtr2tugk.jpg\n",
            "[%] File Downloaded !\n",
            "\n",
            "[%] Downloading Image #6 from https://www.nespresso.com/ncp/res/uploads/recipes/nespresso-recipes-Latte-Heart-by-Nespresso.jpg\n",
            "[!] Issue getting: https://www.nespresso.com/ncp/res/uploads/recipes/nespresso-recipes-Latte-Heart-by-Nespresso.jpg\n",
            "[!] Error:: The read operation timed out\n",
            "[%] Downloading Image #6 from https://2.bp.blogspot.com/-Lnn6j9jlaZY/WXC9-wgzdVI/AAAAAAAAPWg/A-u7MYHpDLgCaztsbi-TgbcxPpNvg2tkgCLcBGAs/s640/at_the_cafe_by_chinchongcha.jpg\n",
            "[%] File Downloaded !\n",
            "\n",
            "[%] Downloading Image #7 from https://cdn.wallpapersafari.com/73/0/6pYTvq.jpg\n",
            "[%] File Downloaded !\n",
            "\n",
            "[%] Downloading Image #8 from https://www.underconsideration.com/brandnew/archives/pelican_rouge_logo.png\n",
            "[%] File Downloaded !\n",
            "\n",
            "[%] Downloading Image #9 from https://www.chalkitupsigns.com/chalkblog/wp-content/uploads/2013/03/magruders2-1024x656.jpg\n",
            "[%] File Downloaded !\n",
            "\n",
            "[%] Downloading Image #10 from https://i.pinimg.com/originals/a4/8b/56/a48b56e2391cd828aeebaf3e7f5575bd.gif\n",
            "[%] File Downloaded !\n",
            "\n",
            "[%] Downloading Image #11 from https://www.bing.com/th/id/OGC.673d56d398ac2e5563bc1192f6a974f2?pid=1.7&amp;rurl=https%3a%2f%2fi.pinimg.com%2foriginals%2fa4%2f8b%2f56%2fa48b56e2391cd828aeebaf3e7f5575bd.gif&amp;ehk=FrosP7ocBu7LLUKgkPiDj68yCvnLVHTiaIaVyyNMPjw%3d\n",
            "[!] Issue getting: https://www.bing.com/th/id/OGC.673d56d398ac2e5563bc1192f6a974f2?pid=1.7&amp;rurl=https%3a%2f%2fi.pinimg.com%2foriginals%2fa4%2f8b%2f56%2fa48b56e2391cd828aeebaf3e7f5575bd.gif&amp;ehk=FrosP7ocBu7LLUKgkPiDj68yCvnLVHTiaIaVyyNMPjw%3d\n",
            "[!] Error:: HTTP Error 404: Not Found\n",
            "[%] Downloading Image #11 from https://www.signsny.com/products/light-box-sign/illuminated-sign-cabinet.jpg\n",
            "[%] File Downloaded !\n",
            "\n",
            "\n",
            "\n",
            "[!!]Indexing page: 2\n",
            "\n",
            "[%] Indexed 13 Images on Page 2.\n",
            "\n",
            "===============================================\n",
            "\n",
            "[%] Downloading Image #12 from https://images.template.net/wp-content/uploads/2016/08/19111336/Coffee-Logo.jpg\n",
            "[%] File Downloaded !\n",
            "\n",
            "[%] Downloading Image #13 from https://3axis.co/user-images/eo2gkl18.png\n",
            "[%] File Downloaded !\n",
            "\n",
            "[%] Downloading Image #14 from http://www.telegraph.co.uk/content/dam/Travel/galleries/travel/picturegalleries/Culture-Day-21-weird-and-wonderful-things-about-Japan/japan-maid_3490514a.jpg?imwidth=450\n",
            "[%] File Downloaded !\n",
            "\n",
            "[%] Downloading Image #15 from https://digitalsynopsis.com/wp-content/uploads/2016/05/ready-in-an-instant-pronto-cafe-businessman.jpg\n",
            "[%] File Downloaded !\n",
            "\n",
            "[%] Downloading Image #16 from http://static2.businessinsider.com/image/560ee0219dd7cc25008beee6-3033-2275/rtr2tugk.jpg\n",
            "[%] File Downloaded !\n",
            "\n",
            "[%] Downloading Image #17 from https://www.nespresso.com/ncp/res/uploads/recipes/nespresso-recipes-Latte-Heart-by-Nespresso.jpg\n",
            "[!] Issue getting: https://www.nespresso.com/ncp/res/uploads/recipes/nespresso-recipes-Latte-Heart-by-Nespresso.jpg\n",
            "[!] Error:: The read operation timed out\n",
            "[%] Downloading Image #17 from https://2.bp.blogspot.com/-Lnn6j9jlaZY/WXC9-wgzdVI/AAAAAAAAPWg/A-u7MYHpDLgCaztsbi-TgbcxPpNvg2tkgCLcBGAs/s640/at_the_cafe_by_chinchongcha.jpg\n",
            "[%] File Downloaded !\n",
            "\n",
            "[%] Downloading Image #18 from https://cdn.wallpapersafari.com/73/0/6pYTvq.jpg\n",
            "[%] File Downloaded !\n",
            "\n",
            "[%] Downloading Image #19 from https://www.underconsideration.com/brandnew/archives/pelican_rouge_logo.png\n",
            "[%] File Downloaded !\n",
            "\n",
            "[%] Downloading Image #20 from https://www.chalkitupsigns.com/chalkblog/wp-content/uploads/2013/03/magruders2-1024x656.jpg\n",
            "[%] File Downloaded !\n",
            "\n",
            "[%] Downloading Image #21 from https://i.pinimg.com/originals/a4/8b/56/a48b56e2391cd828aeebaf3e7f5575bd.gif\n",
            "[%] File Downloaded !\n",
            "\n",
            "[%] Downloading Image #22 from https://www.bing.com/th/id/OGC.673d56d398ac2e5563bc1192f6a974f2?pid=1.7&amp;rurl=https%3a%2f%2fi.pinimg.com%2foriginals%2fa4%2f8b%2f56%2fa48b56e2391cd828aeebaf3e7f5575bd.gif&amp;ehk=FrosP7ocBu7LLUKgkPiDj68yCvnLVHTiaIaVyyNMPjw%3d\n",
            "[!] Issue getting: https://www.bing.com/th/id/OGC.673d56d398ac2e5563bc1192f6a974f2?pid=1.7&amp;rurl=https%3a%2f%2fi.pinimg.com%2foriginals%2fa4%2f8b%2f56%2fa48b56e2391cd828aeebaf3e7f5575bd.gif&amp;ehk=FrosP7ocBu7LLUKgkPiDj68yCvnLVHTiaIaVyyNMPjw%3d\n",
            "[!] Error:: HTTP Error 404: Not Found\n",
            "[%] Downloading Image #22 from https://www.signsny.com/products/light-box-sign/illuminated-sign-cabinet.jpg\n",
            "[%] File Downloaded !\n",
            "\n",
            "\n",
            "\n",
            "[!!]Indexing page: 3\n",
            "\n",
            "[%] Indexed 12 Images on Page 3.\n",
            "\n",
            "===============================================\n",
            "\n",
            "[%] Downloading Image #23 from https://3axis.co/user-images/eo2gkl18.png\n",
            "[%] File Downloaded !\n",
            "\n",
            "[%] Downloading Image #24 from http://www.telegraph.co.uk/content/dam/Travel/galleries/travel/picturegalleries/Culture-Day-21-weird-and-wonderful-things-about-Japan/japan-maid_3490514a.jpg?imwidth=450\n",
            "[%] File Downloaded !\n",
            "\n",
            "[%] Downloading Image #25 from https://digitalsynopsis.com/wp-content/uploads/2016/05/ready-in-an-instant-pronto-cafe-businessman.jpg\n",
            "[%] File Downloaded !\n",
            "\n",
            "[%] Downloading Image #26 from http://static2.businessinsider.com/image/560ee0219dd7cc25008beee6-3033-2275/rtr2tugk.jpg\n",
            "[%] File Downloaded !\n",
            "\n",
            "[%] Downloading Image #27 from https://www.nespresso.com/ncp/res/uploads/recipes/nespresso-recipes-Latte-Heart-by-Nespresso.jpg\n",
            "[!] Issue getting: https://www.nespresso.com/ncp/res/uploads/recipes/nespresso-recipes-Latte-Heart-by-Nespresso.jpg\n",
            "[!] Error:: The read operation timed out\n",
            "[%] Downloading Image #27 from https://2.bp.blogspot.com/-Lnn6j9jlaZY/WXC9-wgzdVI/AAAAAAAAPWg/A-u7MYHpDLgCaztsbi-TgbcxPpNvg2tkgCLcBGAs/s640/at_the_cafe_by_chinchongcha.jpg\n",
            "[%] File Downloaded !\n",
            "\n",
            "[%] Downloading Image #28 from https://cdn.wallpapersafari.com/73/0/6pYTvq.jpg\n",
            "[%] File Downloaded !\n",
            "\n",
            "[%] Downloading Image #29 from https://www.underconsideration.com/brandnew/archives/pelican_rouge_logo.png\n",
            "[%] File Downloaded !\n",
            "\n",
            "[%] Downloading Image #30 from https://www.chalkitupsigns.com/chalkblog/wp-content/uploads/2013/03/magruders2-1024x656.jpg\n",
            "[%] File Downloaded !\n",
            "\n",
            "\n",
            "\n",
            "[%] Done. Downloaded 30 images.\n",
            "\n",
            "===============================================\n",
            "\n",
            "time: 3min 6s (started: 2021-03-30 06:50:08 +00:00)\n"
          ],
          "name": "stdout"
        }
      ]
    },
    {
      "cell_type": "code",
      "metadata": {
        "colab": {
          "base_uri": "https://localhost:8080/"
        },
        "id": "1D3p2UkgcDZM",
        "outputId": "585cdb1f-4fa5-472b-82a1-589f24f0ed2a"
      },
      "source": [
        "# Step 2 : Preprocessing of Images\n",
        "# i : Resizing of Images\n",
        "# ii : Flattening of Images\n",
        "\n",
        "import os\n",
        "import matplotlib.pyplot as plt\n",
        "import numpy as np\n",
        "from skimage.io import imread\n",
        "from skimage.transform import resize\n",
        "\n",
        "target = []\n",
        "images = []\n",
        "flat_data = []\n",
        "\n",
        "DATADIR = '/content/images'\n",
        "CATEGORIES = ['Starbucks Logo','McDonalds Logo', 'Dominos Pizza Logo','Subway Logo','KFC Logo','Pizza Hut Logo', 'Burger King Logo', 'Cafe Coffee Day Logo']\n",
        "\n",
        "for category in CATEGORIES:\n",
        "  class_num = CATEGORIES.index(category) # Label Encoding the values\n",
        "  path = os.path.join(DATADIR,category) # Create path to use all the images\n",
        "  for img in os.listdir(path):\n",
        "    img_array = imread(os.path.join(path,img))\n",
        "    #print(img_array.shape)\n",
        "    #plt.imshow(img_array)\n",
        "    img_resized = resize(img_array,(150,150,3)) # Normalizes the value from 0 to 1\n",
        "    flat_data.append(img_resized.flatten())\n",
        "    images.append(img_resized)\n",
        "    target.append(class_num)\n",
        "\n",
        "flat_data = np.array(flat_data)\n",
        "target = np.array(target)\n",
        "images = np.array(images)\n"
      ],
      "execution_count": 12,
      "outputs": [
        {
          "output_type": "stream",
          "text": [
            "/usr/local/lib/python3.7/dist-packages/PIL/TiffImagePlugin.py:788: UserWarning: Corrupt EXIF data.  Expecting to read 4 bytes but only got 0. \n",
            "  warnings.warn(str(msg))\n"
          ],
          "name": "stderr"
        },
        {
          "output_type": "stream",
          "text": [
            "time: 59.2 s (started: 2021-03-30 06:53:21 +00:00)\n"
          ],
          "name": "stdout"
        }
      ]
    },
    {
      "cell_type": "code",
      "metadata": {
        "colab": {
          "base_uri": "https://localhost:8080/"
        },
        "id": "hsd1JgyiaxY0",
        "outputId": "40a60a74-61b4-4e5e-b9c6-494e9bc7ad0a"
      },
      "source": [
        "# Array containing all the target values of images in Index Form\n",
        "\n",
        "target"
      ],
      "execution_count": 13,
      "outputs": [
        {
          "output_type": "execute_result",
          "data": {
            "text/plain": [
              "array([0, 0, 0, 0, 0, 0, 0, 0, 0, 0, 0, 0, 0, 0, 0, 0, 0, 0, 0, 0, 0, 0,\n",
              "       0, 0, 0, 0, 0, 0, 0, 0, 1, 1, 1, 1, 1, 1, 1, 1, 1, 1, 1, 1, 1, 1,\n",
              "       1, 1, 1, 1, 1, 1, 1, 1, 1, 1, 1, 1, 1, 1, 1, 1, 2, 2, 2, 2, 2, 2,\n",
              "       2, 2, 2, 2, 2, 2, 2, 2, 2, 2, 2, 2, 2, 2, 2, 2, 2, 2, 2, 2, 2, 2,\n",
              "       2, 2, 3, 3, 3, 3, 3, 3, 3, 3, 3, 3, 3, 3, 3, 3, 3, 3, 3, 3, 3, 3,\n",
              "       3, 3, 3, 3, 3, 3, 3, 3, 3, 3, 4, 4, 4, 4, 4, 4, 4, 4, 4, 4, 4, 4,\n",
              "       4, 4, 4, 4, 4, 4, 4, 4, 4, 4, 4, 4, 4, 4, 4, 4, 4, 4, 5, 5, 5, 5,\n",
              "       5, 5, 5, 5, 5, 5, 5, 5, 5, 5, 5, 5, 5, 5, 5, 5, 5, 5, 5, 5, 5, 5,\n",
              "       5, 5, 5, 5, 6, 6, 6, 6, 6, 6, 6, 6, 6, 6, 6, 6, 6, 6, 6, 6, 6, 6,\n",
              "       6, 6, 6, 6, 6, 6, 6, 6, 6, 6, 6, 6, 7, 7, 7, 7, 7, 7, 7, 7, 7, 7,\n",
              "       7, 7, 7, 7, 7, 7, 7, 7, 7, 7, 7, 7, 7, 7, 7, 7, 7, 7, 7, 7])"
            ]
          },
          "metadata": {
            "tags": []
          },
          "execution_count": 13
        },
        {
          "output_type": "stream",
          "text": [
            "time: 7.51 ms (started: 2021-03-30 06:54:24 +00:00)\n"
          ],
          "name": "stdout"
        }
      ]
    },
    {
      "cell_type": "code",
      "metadata": {
        "colab": {
          "base_uri": "https://localhost:8080/",
          "height": 298
        },
        "id": "zFVvvfLicbE6",
        "outputId": "699fc0a5-eb5e-4551-a6b2-a75bd9269ece"
      },
      "source": [
        "# Bar Graph representing the no. , types and amount of data collected\n",
        "\n",
        "unique,count = np.unique(target,return_counts=True)\n",
        "plt.bar(CATEGORIES,count)"
      ],
      "execution_count": 14,
      "outputs": [
        {
          "output_type": "execute_result",
          "data": {
            "text/plain": [
              "<BarContainer object of 8 artists>"
            ]
          },
          "metadata": {
            "tags": []
          },
          "execution_count": 14
        },
        {
          "output_type": "display_data",
          "data": {
            "image/png": "[encoded data removed]",
            "text/plain": [
              "<Figure size 432x288 with 1 Axes>"
            ]
          },
          "metadata": {
            "tags": [],
            "needs_background": "light"
          }
        },
        {
          "output_type": "stream",
          "text": [
            "time: 269 ms (started: 2021-03-30 06:54:26 +00:00)\n"
          ],
          "name": "stdout"
        }
      ]
    },
    {
      "cell_type": "code",
      "metadata": {
        "colab": {
          "base_uri": "https://localhost:8080/"
        },
        "id": "ej3fK8Ldc8ZR",
        "outputId": "38af46d1-8796-4ae8-d7a6-bb9083519607"
      },
      "source": [
        "# Step 3 : Applying Classification Algorithm that is SVM\n",
        "# Spliting data into Training and Testing Sets\n",
        "\n",
        "from sklearn.model_selection import train_test_split\n",
        "x_train,x_test,y_train,y_test = train_test_split(flat_data,target,\n",
        "                                  test_size=0.3,random_state=109)"
      ],
      "execution_count": 15,
      "outputs": [
        {
          "output_type": "stream",
          "text": [
            "time: 229 ms (started: 2021-03-30 06:54:30 +00:00)\n"
          ],
          "name": "stdout"
        }
      ]
    },
    {
      "cell_type": "code",
      "metadata": {
        "colab": {
          "base_uri": "https://localhost:8080/"
        },
        "id": "7PlzkWtJdAFX",
        "outputId": "0b155fca-50dc-404a-ede8-96fffbb7ac41"
      },
      "source": [
        "from sklearn.model_selection import GridSearchCV\n",
        "from sklearn import svm\n",
        "param_grid = [\n",
        "              {'C':[1,10,100,1000],'kernel':['linear']},\n",
        "              {'C':[1,10,100,1000],'gamma':[0.001,0.0001],'kernel':['rbf']},\n",
        "]\n",
        "\n",
        "svc = svm.SVC(probability=True)\n",
        "clf = GridSearchCV(svc,param_grid)\n",
        "clf.fit(x_train,y_train)"
      ],
      "execution_count": 16,
      "outputs": [
        {
          "output_type": "execute_result",
          "data": {
            "text/plain": [
              "GridSearchCV(cv=None, error_score=nan,\n",
              "             estimator=SVC(C=1.0, break_ties=False, cache_size=200,\n",
              "                           class_weight=None, coef0=0.0,\n",
              "                           decision_function_shape='ovr', degree=3,\n",
              "                           gamma='scale', kernel='rbf', max_iter=-1,\n",
              "                           probability=True, random_state=None, shrinking=True,\n",
              "                           tol=0.001, verbose=False),\n",
              "             iid='deprecated', n_jobs=None,\n",
              "             param_grid=[{'C': [1, 10, 100, 1000], 'kernel': ['linear']},\n",
              "                         {'C': [1, 10, 100, 1000], 'gamma': [0.001, 0.0001],\n",
              "                          'kernel': ['rbf']}],\n",
              "             pre_dispatch='2*n_jobs', refit=True, return_train_score=False,\n",
              "             scoring=None, verbose=0)"
            ]
          },
          "metadata": {
            "tags": []
          },
          "execution_count": 16
        },
        {
          "output_type": "stream",
          "text": [
            "time: 9min 31s (started: 2021-03-30 06:54:32 +00:00)\n"
          ],
          "name": "stdout"
        }
      ]
    },
    {
      "cell_type": "code",
      "metadata": {
        "colab": {
          "base_uri": "https://localhost:8080/"
        },
        "id": "dI0qZyBidDS5",
        "outputId": "e5dd492f-90cb-4e22-c671-1b320680818d"
      },
      "source": [
        "# Fetching the array of predicted values\n",
        "\n",
        "y_pred = clf.predict(x_test)\n",
        "y_pred"
      ],
      "execution_count": 17,
      "outputs": [
        {
          "output_type": "execute_result",
          "data": {
            "text/plain": [
              "array([7, 0, 6, 0, 1, 5, 0, 1, 6, 7, 0, 2, 6, 3, 3, 0, 5, 0, 0, 3, 1, 5,\n",
              "       3, 3, 7, 6, 7, 0, 1, 1, 1, 4, 5, 5, 5, 6, 3, 2, 4, 1, 3, 5, 2, 6,\n",
              "       6, 0, 3, 2, 5, 4, 2, 3, 2, 3, 7, 4, 5, 2, 7, 7, 3, 5, 3, 1, 4, 5,\n",
              "       2, 0, 5, 2, 7, 4])"
            ]
          },
          "metadata": {
            "tags": []
          },
          "execution_count": 17
        },
        {
          "output_type": "stream",
          "text": [
            "time: 644 ms (started: 2021-03-30 07:42:44 +00:00)\n"
          ],
          "name": "stdout"
        }
      ]
    },
    {
      "cell_type": "code",
      "metadata": {
        "colab": {
          "base_uri": "https://localhost:8080/"
        },
        "id": "8MDTY2dadHzX",
        "outputId": "c661d537-129c-4975-adbd-833e1381bf9e"
      },
      "source": [
        "# Fetching the values of actual values\n",
        "\n",
        "y_test"
      ],
      "execution_count": 18,
      "outputs": [
        {
          "output_type": "execute_result",
          "data": {
            "text/plain": [
              "array([7, 0, 6, 0, 1, 5, 0, 1, 6, 7, 0, 2, 6, 3, 3, 0, 5, 0, 0, 3, 1, 5,\n",
              "       3, 3, 7, 6, 7, 0, 1, 1, 1, 4, 5, 5, 4, 6, 3, 2, 4, 1, 3, 5, 2, 6,\n",
              "       6, 0, 3, 2, 5, 4, 2, 3, 2, 3, 7, 4, 5, 2, 7, 7, 3, 5, 3, 1, 4, 5,\n",
              "       2, 0, 5, 2, 7, 4])"
            ]
          },
          "metadata": {
            "tags": []
          },
          "execution_count": 18
        },
        {
          "output_type": "stream",
          "text": [
            "time: 5.33 ms (started: 2021-03-30 07:42:50 +00:00)\n"
          ],
          "name": "stdout"
        }
      ]
    },
    {
      "cell_type": "code",
      "metadata": {
        "colab": {
          "base_uri": "https://localhost:8080/"
        },
        "id": "RjEd-kHhdKTw",
        "outputId": "a1856538-aaf1-4c43-99dc-b5bb9e241b6b"
      },
      "source": [
        "# Step 4 : Evaluating the model using Confusion Matrix and Classification report\n",
        "\n",
        "from sklearn.metrics import accuracy_score,confusion_matrix"
      ],
      "execution_count": 19,
      "outputs": [
        {
          "output_type": "stream",
          "text": [
            "time: 1.05 ms (started: 2021-03-30 07:42:58 +00:00)\n"
          ],
          "name": "stdout"
        }
      ]
    },
    {
      "cell_type": "code",
      "metadata": {
        "colab": {
          "base_uri": "https://localhost:8080/"
        },
        "id": "kBGLImh8dM3-",
        "outputId": "d5ccd70f-a638-481d-8371-ba1965991384"
      },
      "source": [
        "accuracy_score(y_pred,y_test)"
      ],
      "execution_count": 20,
      "outputs": [
        {
          "output_type": "execute_result",
          "data": {
            "text/plain": [
              "0.9861111111111112"
            ]
          },
          "metadata": {
            "tags": []
          },
          "execution_count": 20
        },
        {
          "output_type": "stream",
          "text": [
            "time: 4.77 ms (started: 2021-03-30 07:43:01 +00:00)\n"
          ],
          "name": "stdout"
        }
      ]
    },
    {
      "cell_type": "code",
      "metadata": {
        "colab": {
          "base_uri": "https://localhost:8080/"
        },
        "id": "NRFyOl4QdP81",
        "outputId": "ea60bb78-9ee7-4c97-ccc5-7f53cb8939df"
      },
      "source": [
        "confusion_matrix(y_pred,y_test)"
      ],
      "execution_count": 21,
      "outputs": [
        {
          "output_type": "execute_result",
          "data": {
            "text/plain": [
              "array([[10,  0,  0,  0,  0,  0,  0,  0],\n",
              "       [ 0,  8,  0,  0,  0,  0,  0,  0],\n",
              "       [ 0,  0,  9,  0,  0,  0,  0,  0],\n",
              "       [ 0,  0,  0, 12,  0,  0,  0,  0],\n",
              "       [ 0,  0,  0,  0,  6,  0,  0,  0],\n",
              "       [ 0,  0,  0,  0,  1, 11,  0,  0],\n",
              "       [ 0,  0,  0,  0,  0,  0,  7,  0],\n",
              "       [ 0,  0,  0,  0,  0,  0,  0,  8]])"
            ]
          },
          "metadata": {
            "tags": []
          },
          "execution_count": 21
        },
        {
          "output_type": "stream",
          "text": [
            "time: 10.4 ms (started: 2021-03-30 07:43:05 +00:00)\n"
          ],
          "name": "stdout"
        }
      ]
    },
    {
      "cell_type": "code",
      "metadata": {
        "colab": {
          "base_uri": "https://localhost:8080/"
        },
        "id": "bIN79FLmdUC5",
        "outputId": "c8b523d3-1721-4659-e90d-b0d2c84b22e4"
      },
      "source": [
        "# Saving the model using Pickle library\n",
        "\n",
        "import pickle\n",
        "pickle.dump(clf,open('img_model.p','wb'))"
      ],
      "execution_count": 22,
      "outputs": [
        {
          "output_type": "stream",
          "text": [
            "time: 71.5 ms (started: 2021-03-30 07:43:09 +00:00)\n"
          ],
          "name": "stdout"
        }
      ]
    },
    {
      "cell_type": "code",
      "metadata": {
        "colab": {
          "base_uri": "https://localhost:8080/"
        },
        "id": "W3Nz10C2dXUi",
        "outputId": "b618cf7d-bbb3-4b6d-e287-91703158989d"
      },
      "source": [
        "model = pickle.load(open('img_model.p','rb'))"
      ],
      "execution_count": 23,
      "outputs": [
        {
          "output_type": "stream",
          "text": [
            "time: 46.3 ms (started: 2021-03-30 07:43:11 +00:00)\n"
          ],
          "name": "stdout"
        }
      ]
    },
    {
      "cell_type": "code",
      "metadata": {
        "colab": {
          "base_uri": "https://localhost:8080/",
          "height": 336
        },
        "id": "u2b1uKQzdZ2T",
        "outputId": "a88a6d46-149a-4247-8e27-9ad7180f234a"
      },
      "source": [
        "# Step 5 : Prediction for any new Image\n",
        "\n",
        "flat_data = []\n",
        "url = input('Enter your URL')\n",
        "img = imread(url)\n",
        "img_resized = resize(img,(150,150,3))\n",
        "flat_data.append(img_resized.flatten())\n",
        "flat_data = np.array(flat_data)\n",
        "print(img.shape)\n",
        "plt.imshow(img_resized)\n",
        "y_out = model.predict(flat_data)\n",
        "y_out = CATEGORIES[y_out[0]]\n",
        "print(f' PREDICTED OUTPUT: {y_out}')"
      ],
      "execution_count": 35,
      "outputs": [
        {
          "output_type": "stream",
          "text": [
            "Enter your URLhttps://i.pinimg.com/originals/c7/c6/d4/c7c6d4e62a2f96134ee819240dd07390.jpg\n",
            "(759, 1024, 3)\n",
            " PREDICTED OUTPUT: McDonalds Logo\n"
          ],
          "name": "stdout"
        },
        {
          "output_type": "display_data",
          "data": {
            "image/png": "[encoded data removed]",
            "text/plain": [
              "<Figure size 432x288 with 1 Axes>"
            ]
          },
          "metadata": {
            "tags": [],
            "needs_background": "light"
          }
        },
        {
          "output_type": "stream",
          "text": [
            "time: 1min (started: 2021-03-30 09:32:07 +00:00)\n"
          ],
          "name": "stdout"
        }
      ]
    },
    {
      "cell_type": "code",
      "metadata": {
        "colab": {
          "base_uri": "https://localhost:8080/"
        },
        "id": "ViyPVa8CdegR",
        "outputId": "b34cb897-06c4-4ccb-afa5-412ea96d49a8"
      },
      "source": [
        "# Step 6 : Deployment for webapp using Streamlit/Dash\n",
        "\n",
        "!pip install streamlit --quiet\n",
        "\n",
        "!pip install pyngrok==4.1.1 --quiet\n",
        "from pyngrok import ngrok"
      ],
      "execution_count": 25,
      "outputs": [
        {
          "output_type": "stream",
          "text": [
            "\u001b[K     |████████████████████████████████| 7.0MB 19.1MB/s \n",
            "\u001b[K     |████████████████████████████████| 112kB 32.8MB/s \n",
            "\u001b[K     |████████████████████████████████| 81kB 7.8MB/s \n",
            "\u001b[K     |████████████████████████████████| 4.6MB 39.4MB/s \n",
            "\u001b[K     |████████████████████████████████| 163kB 42.3MB/s \n",
            "\u001b[K     |████████████████████████████████| 122kB 41.1MB/s \n",
            "\u001b[K     |████████████████████████████████| 71kB 7.2MB/s \n",
            "\u001b[?25h  Building wheel for blinker (setup.py) ... \u001b[?25l\u001b[?25hdone\n",
            "\u001b[31mERROR: google-colab 1.0.0 has requirement ipykernel~=4.10, but you'll have ipykernel 5.5.0 which is incompatible.\u001b[0m\n",
            "  Building wheel for pyngrok (setup.py) ... \u001b[?25l\u001b[?25hdone\n",
            "time: 20.1 s (started: 2021-03-30 07:43:31 +00:00)\n"
          ],
          "name": "stdout"
        }
      ]
    },
    {
      "cell_type": "code",
      "metadata": {
        "colab": {
          "base_uri": "https://localhost:8080/"
        },
        "id": "JCe3MXeBdwNU",
        "outputId": "2c6a9d87-9dc0-4c93-a1a1-bb753f7a4c30"
      },
      "source": [
        "# Writing of an app\n",
        "\n",
        "%%writefile app.py\n",
        "import streamlit as st\n",
        "import numpy as np\n",
        "from skimage.io import imread\n",
        "from skimage.transform import resize\n",
        "import pickle \n",
        "from PIL import Image\n",
        "st.set_option('deprecation.showfileUploaderEncoding', False)\n",
        "st.title('Minor Project Image Classification using Machine Learning')\n",
        "st.title('Famous Fast Food Logo Classifier')\n",
        "st.text('Upload the Image')\n",
        "\n",
        "model = pickle.load(open('img_model.p','rb'))\n",
        "\n",
        "uploaded_file = st.file_uploader(\"Choose an Image\", type=\"jpg\")\n",
        "if uploaded_file is not None:\n",
        "  img = Image.open(uploaded_file)\n",
        "  st.image(img,caption='This is the Uploaded Image')\n",
        "\n",
        "  if st.button('PREDICT'):\n",
        "    CATEGORIES = ['Starbucks Logo','McDonalds Logo', 'Dominos Pizza Logo','Subway Logo','KFC Logo','Pizza Hut Logo', 'Burger King Logo', 'Cafe Coffee Day Logo']\n",
        "    st.write('RESULT')\n",
        "    flat_data=[]\n",
        "    img = np.array(img)\n",
        "    img_resized = resize(img,(150,150,3))\n",
        "    flat_data.append(img_resized.flatten())\n",
        "    flat_data = np.array(flat_data)\n",
        "    y_out = model.predict(flat_data)\n",
        "    y_out = CATEGORIES[y_out[0]]\n",
        "    st.title(f' Predicted Output: {y_out}')\n",
        "    q = model.predict_proba(flat_data)\n",
        "    for index, item in enumerate(CATEGORIES):\n",
        "      st.write(f'{item} : {q[0][index]*100}%')\n"
      ],
      "execution_count": 30,
      "outputs": [
        {
          "output_type": "stream",
          "text": [
            "Overwriting app.py\n",
            "time: 9.68 ms (started: 2021-03-30 07:46:14 +00:00)\n"
          ],
          "name": "stdout"
        }
      ]
    },
    {
      "cell_type": "code",
      "metadata": {
        "colab": {
          "base_uri": "https://localhost:8080/",
          "height": 52
        },
        "id": "ZTeikmS6dw1o",
        "outputId": "25e254dd-09d5-4155-8889-0e98f9360ddf"
      },
      "source": [
        "# Creating a link\n",
        "\n",
        "!nohup streamlit run app.py &\n",
        "url = ngrok.connect(port='8501')\n",
        "url"
      ],
      "execution_count": 27,
      "outputs": [
        {
          "output_type": "stream",
          "text": [
            "nohup: appending output to 'nohup.out'\n"
          ],
          "name": "stdout"
        },
        {
          "output_type": "execute_result",
          "data": {
            "application/vnd.google.colaboratory.intrinsic+json": {
              "type": "string"
            },
            "text/plain": [
              "'http://922f38a57fa0.ngrok.io'"
            ]
          },
          "metadata": {
            "tags": []
          },
          "execution_count": 27
        },
        {
          "output_type": "stream",
          "text": [
            "time: 1.3 s (started: 2021-03-30 07:43:55 +00:00)\n"
          ],
          "name": "stdout"
        }
      ]
    },
    {
      "cell_type": "code",
      "metadata": {
        "id": "OWYQul15FstB"
      },
      "source": [
        ""
      ],
      "execution_count": null,
      "outputs": []
    }
  ]
}